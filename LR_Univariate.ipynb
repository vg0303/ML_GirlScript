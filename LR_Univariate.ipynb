{
  "nbformat": 4,
  "nbformat_minor": 0,
  "metadata": {
    "colab": {
      "name": "LR_Univariate.ipynb",
      "provenance": [],
      "authorship_tag": "ABX9TyM/vlu9F548kBcwpLs7/6mJ",
      "include_colab_link": true
    },
    "kernelspec": {
      "name": "python3",
      "display_name": "Python 3"
    },
    "language_info": {
      "name": "python"
    }
  },
  "cells": [
    {
      "cell_type": "markdown",
      "metadata": {
        "id": "view-in-github",
        "colab_type": "text"
      },
      "source": [
        "<a href=\"https://colab.research.google.com/github/vg0303/ML_GirlScript/blob/main/LR_Univariate.ipynb\" target=\"_parent\"><img src=\"https://colab.research.google.com/assets/colab-badge.svg\" alt=\"Open In Colab\"/></a>"
      ]
    },
    {
      "cell_type": "markdown",
      "metadata": {
        "id": "bapn9OR_2Yko"
      },
      "source": [
        "#Univariate Linear Regression\n",
        "\n",
        "Date: 13/06/21\n",
        "\n",
        "[Link to the dataset used](https://archive.ics.uci.edu/ml/datasets/Student+Performance)\n",
        "\n",
        "We are basically predicting G3 based on the value of G1, and splitting the available data in 80-20 proportion for training and testing "
      ]
    },
    {
      "cell_type": "code",
      "metadata": {
        "colab": {
          "base_uri": "https://localhost:8080/"
        },
        "id": "Dxy54ZG9zfr0",
        "outputId": "344c902e-d0de-4704-dc65-e51cef34ee76"
      },
      "source": [
        "from google.colab import drive\n",
        "drive.mount('/content/drive')"
      ],
      "execution_count": 1,
      "outputs": [
        {
          "output_type": "stream",
          "text": [
            "Mounted at /content/drive\n"
          ],
          "name": "stdout"
        }
      ]
    },
    {
      "cell_type": "code",
      "metadata": {
        "colab": {
          "base_uri": "https://localhost:8080/"
        },
        "id": "MSCaRVnz1aXE",
        "outputId": "fb9de15d-8a12-43d7-c203-847aa05f151d"
      },
      "source": [
        "cd '/content/drive/MyDrive/ML_Colab/Linear_Regression/student' "
      ],
      "execution_count": 2,
      "outputs": [
        {
          "output_type": "stream",
          "text": [
            "/content/drive/MyDrive/ML_Colab/Linear_Regression/student\n"
          ],
          "name": "stdout"
        }
      ]
    },
    {
      "cell_type": "code",
      "metadata": {
        "colab": {
          "base_uri": "https://localhost:8080/"
        },
        "id": "XsupY8Iu1pjo",
        "outputId": "9225cee5-d3aa-4d5d-ee5c-31506ca5508f"
      },
      "source": [
        "ls"
      ],
      "execution_count": 3,
      "outputs": [
        {
          "output_type": "stream",
          "text": [
            "cleanedMathData.csv  student-merge.R  univariate_MathData_2.csv\n",
            "student-mat.csv      student-por.csv\n",
            "student-mat.xlsx     student.txt\n"
          ],
          "name": "stdout"
        }
      ]
    },
    {
      "cell_type": "code",
      "metadata": {
        "id": "t0vxLw6t11Ig"
      },
      "source": [
        "import pandas as pd #working with csv or excel files\n",
        "import numpy as np #working with numbers/ arrays/ tensors\n",
        "import tensorflow as tf # framework for building the model\n",
        "from tensorflow import keras #API / library \n",
        "import os #using os commands between the python language"
      ],
      "execution_count": 4,
      "outputs": []
    },
    {
      "cell_type": "code",
      "metadata": {
        "id": "ocKUw07g2-nP"
      },
      "source": [
        "mathData = pd.read_csv('student-mat.csv', sep=';') #load the csv file as dataframe"
      ],
      "execution_count": 5,
      "outputs": []
    },
    {
      "cell_type": "code",
      "metadata": {
        "colab": {
          "base_uri": "https://localhost:8080/",
          "height": 377
        },
        "id": "gAGuhwJV3UH0",
        "outputId": "f5cbfd0c-985b-416e-e29a-49bf559d14cf"
      },
      "source": [
        "mathData.head(10) #print the first ten rows of the dataframe"
      ],
      "execution_count": 6,
      "outputs": [
        {
          "output_type": "execute_result",
          "data": {
            "text/html": [
              "<div>\n",
              "<style scoped>\n",
              "    .dataframe tbody tr th:only-of-type {\n",
              "        vertical-align: middle;\n",
              "    }\n",
              "\n",
              "    .dataframe tbody tr th {\n",
              "        vertical-align: top;\n",
              "    }\n",
              "\n",
              "    .dataframe thead th {\n",
              "        text-align: right;\n",
              "    }\n",
              "</style>\n",
              "<table border=\"1\" class=\"dataframe\">\n",
              "  <thead>\n",
              "    <tr style=\"text-align: right;\">\n",
              "      <th></th>\n",
              "      <th>school</th>\n",
              "      <th>sex</th>\n",
              "      <th>age</th>\n",
              "      <th>address</th>\n",
              "      <th>famsize</th>\n",
              "      <th>Pstatus</th>\n",
              "      <th>Medu</th>\n",
              "      <th>Fedu</th>\n",
              "      <th>Mjob</th>\n",
              "      <th>Fjob</th>\n",
              "      <th>reason</th>\n",
              "      <th>guardian</th>\n",
              "      <th>traveltime</th>\n",
              "      <th>studytime</th>\n",
              "      <th>failures</th>\n",
              "      <th>schoolsup</th>\n",
              "      <th>famsup</th>\n",
              "      <th>paid</th>\n",
              "      <th>activities</th>\n",
              "      <th>nursery</th>\n",
              "      <th>higher</th>\n",
              "      <th>internet</th>\n",
              "      <th>romantic</th>\n",
              "      <th>famrel</th>\n",
              "      <th>freetime</th>\n",
              "      <th>goout</th>\n",
              "      <th>Dalc</th>\n",
              "      <th>Walc</th>\n",
              "      <th>health</th>\n",
              "      <th>absences</th>\n",
              "      <th>G1</th>\n",
              "      <th>G2</th>\n",
              "      <th>G3</th>\n",
              "    </tr>\n",
              "  </thead>\n",
              "  <tbody>\n",
              "    <tr>\n",
              "      <th>0</th>\n",
              "      <td>GP</td>\n",
              "      <td>F</td>\n",
              "      <td>18</td>\n",
              "      <td>U</td>\n",
              "      <td>GT3</td>\n",
              "      <td>A</td>\n",
              "      <td>4</td>\n",
              "      <td>4</td>\n",
              "      <td>at_home</td>\n",
              "      <td>teacher</td>\n",
              "      <td>course</td>\n",
              "      <td>mother</td>\n",
              "      <td>2</td>\n",
              "      <td>2</td>\n",
              "      <td>0</td>\n",
              "      <td>yes</td>\n",
              "      <td>no</td>\n",
              "      <td>no</td>\n",
              "      <td>no</td>\n",
              "      <td>yes</td>\n",
              "      <td>yes</td>\n",
              "      <td>no</td>\n",
              "      <td>no</td>\n",
              "      <td>4</td>\n",
              "      <td>3</td>\n",
              "      <td>4</td>\n",
              "      <td>1</td>\n",
              "      <td>1</td>\n",
              "      <td>3</td>\n",
              "      <td>6</td>\n",
              "      <td>5</td>\n",
              "      <td>6</td>\n",
              "      <td>6</td>\n",
              "    </tr>\n",
              "    <tr>\n",
              "      <th>1</th>\n",
              "      <td>GP</td>\n",
              "      <td>F</td>\n",
              "      <td>17</td>\n",
              "      <td>U</td>\n",
              "      <td>GT3</td>\n",
              "      <td>T</td>\n",
              "      <td>1</td>\n",
              "      <td>1</td>\n",
              "      <td>at_home</td>\n",
              "      <td>other</td>\n",
              "      <td>course</td>\n",
              "      <td>father</td>\n",
              "      <td>1</td>\n",
              "      <td>2</td>\n",
              "      <td>0</td>\n",
              "      <td>no</td>\n",
              "      <td>yes</td>\n",
              "      <td>no</td>\n",
              "      <td>no</td>\n",
              "      <td>no</td>\n",
              "      <td>yes</td>\n",
              "      <td>yes</td>\n",
              "      <td>no</td>\n",
              "      <td>5</td>\n",
              "      <td>3</td>\n",
              "      <td>3</td>\n",
              "      <td>1</td>\n",
              "      <td>1</td>\n",
              "      <td>3</td>\n",
              "      <td>4</td>\n",
              "      <td>5</td>\n",
              "      <td>5</td>\n",
              "      <td>6</td>\n",
              "    </tr>\n",
              "    <tr>\n",
              "      <th>2</th>\n",
              "      <td>GP</td>\n",
              "      <td>F</td>\n",
              "      <td>15</td>\n",
              "      <td>U</td>\n",
              "      <td>LE3</td>\n",
              "      <td>T</td>\n",
              "      <td>1</td>\n",
              "      <td>1</td>\n",
              "      <td>at_home</td>\n",
              "      <td>other</td>\n",
              "      <td>other</td>\n",
              "      <td>mother</td>\n",
              "      <td>1</td>\n",
              "      <td>2</td>\n",
              "      <td>3</td>\n",
              "      <td>yes</td>\n",
              "      <td>no</td>\n",
              "      <td>yes</td>\n",
              "      <td>no</td>\n",
              "      <td>yes</td>\n",
              "      <td>yes</td>\n",
              "      <td>yes</td>\n",
              "      <td>no</td>\n",
              "      <td>4</td>\n",
              "      <td>3</td>\n",
              "      <td>2</td>\n",
              "      <td>2</td>\n",
              "      <td>3</td>\n",
              "      <td>3</td>\n",
              "      <td>10</td>\n",
              "      <td>7</td>\n",
              "      <td>8</td>\n",
              "      <td>10</td>\n",
              "    </tr>\n",
              "    <tr>\n",
              "      <th>3</th>\n",
              "      <td>GP</td>\n",
              "      <td>F</td>\n",
              "      <td>15</td>\n",
              "      <td>U</td>\n",
              "      <td>GT3</td>\n",
              "      <td>T</td>\n",
              "      <td>4</td>\n",
              "      <td>2</td>\n",
              "      <td>health</td>\n",
              "      <td>services</td>\n",
              "      <td>home</td>\n",
              "      <td>mother</td>\n",
              "      <td>1</td>\n",
              "      <td>3</td>\n",
              "      <td>0</td>\n",
              "      <td>no</td>\n",
              "      <td>yes</td>\n",
              "      <td>yes</td>\n",
              "      <td>yes</td>\n",
              "      <td>yes</td>\n",
              "      <td>yes</td>\n",
              "      <td>yes</td>\n",
              "      <td>yes</td>\n",
              "      <td>3</td>\n",
              "      <td>2</td>\n",
              "      <td>2</td>\n",
              "      <td>1</td>\n",
              "      <td>1</td>\n",
              "      <td>5</td>\n",
              "      <td>2</td>\n",
              "      <td>15</td>\n",
              "      <td>14</td>\n",
              "      <td>15</td>\n",
              "    </tr>\n",
              "    <tr>\n",
              "      <th>4</th>\n",
              "      <td>GP</td>\n",
              "      <td>F</td>\n",
              "      <td>16</td>\n",
              "      <td>U</td>\n",
              "      <td>GT3</td>\n",
              "      <td>T</td>\n",
              "      <td>3</td>\n",
              "      <td>3</td>\n",
              "      <td>other</td>\n",
              "      <td>other</td>\n",
              "      <td>home</td>\n",
              "      <td>father</td>\n",
              "      <td>1</td>\n",
              "      <td>2</td>\n",
              "      <td>0</td>\n",
              "      <td>no</td>\n",
              "      <td>yes</td>\n",
              "      <td>yes</td>\n",
              "      <td>no</td>\n",
              "      <td>yes</td>\n",
              "      <td>yes</td>\n",
              "      <td>no</td>\n",
              "      <td>no</td>\n",
              "      <td>4</td>\n",
              "      <td>3</td>\n",
              "      <td>2</td>\n",
              "      <td>1</td>\n",
              "      <td>2</td>\n",
              "      <td>5</td>\n",
              "      <td>4</td>\n",
              "      <td>6</td>\n",
              "      <td>10</td>\n",
              "      <td>10</td>\n",
              "    </tr>\n",
              "    <tr>\n",
              "      <th>5</th>\n",
              "      <td>GP</td>\n",
              "      <td>M</td>\n",
              "      <td>16</td>\n",
              "      <td>U</td>\n",
              "      <td>LE3</td>\n",
              "      <td>T</td>\n",
              "      <td>4</td>\n",
              "      <td>3</td>\n",
              "      <td>services</td>\n",
              "      <td>other</td>\n",
              "      <td>reputation</td>\n",
              "      <td>mother</td>\n",
              "      <td>1</td>\n",
              "      <td>2</td>\n",
              "      <td>0</td>\n",
              "      <td>no</td>\n",
              "      <td>yes</td>\n",
              "      <td>yes</td>\n",
              "      <td>yes</td>\n",
              "      <td>yes</td>\n",
              "      <td>yes</td>\n",
              "      <td>yes</td>\n",
              "      <td>no</td>\n",
              "      <td>5</td>\n",
              "      <td>4</td>\n",
              "      <td>2</td>\n",
              "      <td>1</td>\n",
              "      <td>2</td>\n",
              "      <td>5</td>\n",
              "      <td>10</td>\n",
              "      <td>15</td>\n",
              "      <td>15</td>\n",
              "      <td>15</td>\n",
              "    </tr>\n",
              "    <tr>\n",
              "      <th>6</th>\n",
              "      <td>GP</td>\n",
              "      <td>M</td>\n",
              "      <td>16</td>\n",
              "      <td>U</td>\n",
              "      <td>LE3</td>\n",
              "      <td>T</td>\n",
              "      <td>2</td>\n",
              "      <td>2</td>\n",
              "      <td>other</td>\n",
              "      <td>other</td>\n",
              "      <td>home</td>\n",
              "      <td>mother</td>\n",
              "      <td>1</td>\n",
              "      <td>2</td>\n",
              "      <td>0</td>\n",
              "      <td>no</td>\n",
              "      <td>no</td>\n",
              "      <td>no</td>\n",
              "      <td>no</td>\n",
              "      <td>yes</td>\n",
              "      <td>yes</td>\n",
              "      <td>yes</td>\n",
              "      <td>no</td>\n",
              "      <td>4</td>\n",
              "      <td>4</td>\n",
              "      <td>4</td>\n",
              "      <td>1</td>\n",
              "      <td>1</td>\n",
              "      <td>3</td>\n",
              "      <td>0</td>\n",
              "      <td>12</td>\n",
              "      <td>12</td>\n",
              "      <td>11</td>\n",
              "    </tr>\n",
              "    <tr>\n",
              "      <th>7</th>\n",
              "      <td>GP</td>\n",
              "      <td>F</td>\n",
              "      <td>17</td>\n",
              "      <td>U</td>\n",
              "      <td>GT3</td>\n",
              "      <td>A</td>\n",
              "      <td>4</td>\n",
              "      <td>4</td>\n",
              "      <td>other</td>\n",
              "      <td>teacher</td>\n",
              "      <td>home</td>\n",
              "      <td>mother</td>\n",
              "      <td>2</td>\n",
              "      <td>2</td>\n",
              "      <td>0</td>\n",
              "      <td>yes</td>\n",
              "      <td>yes</td>\n",
              "      <td>no</td>\n",
              "      <td>no</td>\n",
              "      <td>yes</td>\n",
              "      <td>yes</td>\n",
              "      <td>no</td>\n",
              "      <td>no</td>\n",
              "      <td>4</td>\n",
              "      <td>1</td>\n",
              "      <td>4</td>\n",
              "      <td>1</td>\n",
              "      <td>1</td>\n",
              "      <td>1</td>\n",
              "      <td>6</td>\n",
              "      <td>6</td>\n",
              "      <td>5</td>\n",
              "      <td>6</td>\n",
              "    </tr>\n",
              "    <tr>\n",
              "      <th>8</th>\n",
              "      <td>GP</td>\n",
              "      <td>M</td>\n",
              "      <td>15</td>\n",
              "      <td>U</td>\n",
              "      <td>LE3</td>\n",
              "      <td>A</td>\n",
              "      <td>3</td>\n",
              "      <td>2</td>\n",
              "      <td>services</td>\n",
              "      <td>other</td>\n",
              "      <td>home</td>\n",
              "      <td>mother</td>\n",
              "      <td>1</td>\n",
              "      <td>2</td>\n",
              "      <td>0</td>\n",
              "      <td>no</td>\n",
              "      <td>yes</td>\n",
              "      <td>yes</td>\n",
              "      <td>no</td>\n",
              "      <td>yes</td>\n",
              "      <td>yes</td>\n",
              "      <td>yes</td>\n",
              "      <td>no</td>\n",
              "      <td>4</td>\n",
              "      <td>2</td>\n",
              "      <td>2</td>\n",
              "      <td>1</td>\n",
              "      <td>1</td>\n",
              "      <td>1</td>\n",
              "      <td>0</td>\n",
              "      <td>16</td>\n",
              "      <td>18</td>\n",
              "      <td>19</td>\n",
              "    </tr>\n",
              "    <tr>\n",
              "      <th>9</th>\n",
              "      <td>GP</td>\n",
              "      <td>M</td>\n",
              "      <td>15</td>\n",
              "      <td>U</td>\n",
              "      <td>GT3</td>\n",
              "      <td>T</td>\n",
              "      <td>3</td>\n",
              "      <td>4</td>\n",
              "      <td>other</td>\n",
              "      <td>other</td>\n",
              "      <td>home</td>\n",
              "      <td>mother</td>\n",
              "      <td>1</td>\n",
              "      <td>2</td>\n",
              "      <td>0</td>\n",
              "      <td>no</td>\n",
              "      <td>yes</td>\n",
              "      <td>yes</td>\n",
              "      <td>yes</td>\n",
              "      <td>yes</td>\n",
              "      <td>yes</td>\n",
              "      <td>yes</td>\n",
              "      <td>no</td>\n",
              "      <td>5</td>\n",
              "      <td>5</td>\n",
              "      <td>1</td>\n",
              "      <td>1</td>\n",
              "      <td>1</td>\n",
              "      <td>5</td>\n",
              "      <td>0</td>\n",
              "      <td>14</td>\n",
              "      <td>15</td>\n",
              "      <td>15</td>\n",
              "    </tr>\n",
              "  </tbody>\n",
              "</table>\n",
              "</div>"
            ],
            "text/plain": [
              "  school sex  age address famsize Pstatus  ...  Walc  health absences  G1  G2  G3\n",
              "0     GP   F   18       U     GT3       A  ...     1       3        6   5   6   6\n",
              "1     GP   F   17       U     GT3       T  ...     1       3        4   5   5   6\n",
              "2     GP   F   15       U     LE3       T  ...     3       3       10   7   8  10\n",
              "3     GP   F   15       U     GT3       T  ...     1       5        2  15  14  15\n",
              "4     GP   F   16       U     GT3       T  ...     2       5        4   6  10  10\n",
              "5     GP   M   16       U     LE3       T  ...     2       5       10  15  15  15\n",
              "6     GP   M   16       U     LE3       T  ...     1       3        0  12  12  11\n",
              "7     GP   F   17       U     GT3       A  ...     1       1        6   6   5   6\n",
              "8     GP   M   15       U     LE3       A  ...     1       1        0  16  18  19\n",
              "9     GP   M   15       U     GT3       T  ...     1       5        0  14  15  15\n",
              "\n",
              "[10 rows x 33 columns]"
            ]
          },
          "metadata": {
            "tags": []
          },
          "execution_count": 6
        }
      ]
    },
    {
      "cell_type": "markdown",
      "metadata": {
        "id": "okvf00qX36db"
      },
      "source": [
        "We are just going to consider the columns G1 and G3 for univariate linear regression\n",
        "\n",
        "$G3_i= G1_i \\times\\theta_1+\\theta_0$\n"
      ]
    },
    {
      "cell_type": "code",
      "metadata": {
        "colab": {
          "base_uri": "https://localhost:8080/",
          "height": 203
        },
        "id": "vCVkodJr8d7f",
        "outputId": "1b8a542d-3ca6-4aad-957e-7fe77c8b59fa"
      },
      "source": [
        "uniMathData = mathData[['G1', 'G3']]\n",
        "uniMathData.head(5)"
      ],
      "execution_count": 7,
      "outputs": [
        {
          "output_type": "execute_result",
          "data": {
            "text/html": [
              "<div>\n",
              "<style scoped>\n",
              "    .dataframe tbody tr th:only-of-type {\n",
              "        vertical-align: middle;\n",
              "    }\n",
              "\n",
              "    .dataframe tbody tr th {\n",
              "        vertical-align: top;\n",
              "    }\n",
              "\n",
              "    .dataframe thead th {\n",
              "        text-align: right;\n",
              "    }\n",
              "</style>\n",
              "<table border=\"1\" class=\"dataframe\">\n",
              "  <thead>\n",
              "    <tr style=\"text-align: right;\">\n",
              "      <th></th>\n",
              "      <th>G1</th>\n",
              "      <th>G3</th>\n",
              "    </tr>\n",
              "  </thead>\n",
              "  <tbody>\n",
              "    <tr>\n",
              "      <th>0</th>\n",
              "      <td>5</td>\n",
              "      <td>6</td>\n",
              "    </tr>\n",
              "    <tr>\n",
              "      <th>1</th>\n",
              "      <td>5</td>\n",
              "      <td>6</td>\n",
              "    </tr>\n",
              "    <tr>\n",
              "      <th>2</th>\n",
              "      <td>7</td>\n",
              "      <td>10</td>\n",
              "    </tr>\n",
              "    <tr>\n",
              "      <th>3</th>\n",
              "      <td>15</td>\n",
              "      <td>15</td>\n",
              "    </tr>\n",
              "    <tr>\n",
              "      <th>4</th>\n",
              "      <td>6</td>\n",
              "      <td>10</td>\n",
              "    </tr>\n",
              "  </tbody>\n",
              "</table>\n",
              "</div>"
            ],
            "text/plain": [
              "   G1  G3\n",
              "0   5   6\n",
              "1   5   6\n",
              "2   7  10\n",
              "3  15  15\n",
              "4   6  10"
            ]
          },
          "metadata": {
            "tags": []
          },
          "execution_count": 7
        }
      ]
    },
    {
      "cell_type": "code",
      "metadata": {
        "id": "8kovPkpJ8vJs"
      },
      "source": [
        "uniMathData.to_csv('univariate_MathData_2.csv')"
      ],
      "execution_count": 8,
      "outputs": []
    },
    {
      "cell_type": "code",
      "metadata": {
        "colab": {
          "base_uri": "https://localhost:8080/"
        },
        "id": "BcjrmlbV8xXm",
        "outputId": "9f8c57d6-112c-44f1-c3e5-eb83611d30d5"
      },
      "source": [
        "ls"
      ],
      "execution_count": 9,
      "outputs": [
        {
          "output_type": "stream",
          "text": [
            "cleanedMathData.csv  student-merge.R  univariate_MathData_2.csv\n",
            "student-mat.csv      student-por.csv\n",
            "student-mat.xlsx     student.txt\n"
          ],
          "name": "stdout"
        }
      ]
    },
    {
      "cell_type": "markdown",
      "metadata": {
        "id": "xRXoBY5M82Un"
      },
      "source": [
        "#Data Visualization"
      ]
    },
    {
      "cell_type": "code",
      "metadata": {
        "colab": {
          "base_uri": "https://localhost:8080/",
          "height": 157
        },
        "id": "Gu9yStIr80dQ",
        "outputId": "008e9a1b-bdb1-40e3-e005-606deb1da90e"
      },
      "source": [
        "import seaborn as sns\n",
        "sns.palplot(sns.color_palette('PuOr')) #Purple to Orange colors\n",
        "pal = sns.color_palette('PuOr', 6) #print 6 color shades from Purple to Orange\n",
        "pal.as_hex() #set hex code values for colors\n",
        "\n",
        "import matplotlib.pyplot as plt\n",
        "plt.style.use(['seaborn'])\n",
        "sns_colors = ['#c6690c', '#664697'] #orange Purple hex codes\n",
        "sns.set_palette(sns_colors) #set the palette as sns_colors \n",
        "sns.palplot(sns.color_palette(sns_colors)) #plot the color codes"
      ],
      "execution_count": 10,
      "outputs": [
        {
          "output_type": "display_data",
          "data": {
            "image/png": "[encoded data removed]",
            "text/plain": [
              "<Figure size 432x72 with 1 Axes>"
            ]
          },
          "metadata": {
            "tags": [],
            "needs_background": "light"
          }
        },
        {
          "output_type": "display_data",
          "data": {
            "image/png": "[encoded data removed]",
            "text/plain": [
              "<Figure size 144x72 with 1 Axes>"
            ]
          },
          "metadata": {
            "tags": []
          }
        }
      ]
    },
    {
      "cell_type": "code",
      "metadata": {
        "colab": {
          "base_uri": "https://localhost:8080/"
        },
        "id": "pMkAwoO588Ze",
        "outputId": "a0419fd9-a2c6-4ff4-8aa3-270d2afccba0"
      },
      "source": [
        "\n",
        "uniMathData.columns #columns in the dataframe"
      ],
      "execution_count": 11,
      "outputs": [
        {
          "output_type": "execute_result",
          "data": {
            "text/plain": [
              "Index(['G1', 'G3'], dtype='object')"
            ]
          },
          "metadata": {
            "tags": []
          },
          "execution_count": 11
        }
      ]
    },
    {
      "cell_type": "code",
      "metadata": {
        "colab": {
          "base_uri": "https://localhost:8080/",
          "height": 391
        },
        "id": "wvV86p0_9Ath",
        "outputId": "191e7387-b25f-496a-d1d6-ab1edde2b178"
      },
      "source": [
        "#pairplot for all the values\n",
        "\n",
        "sns.pairplot(uniMathData,\n",
        "             x_vars = ['G1', 'G3'],\n",
        "             y_vars =  ['G1', 'G3'],\n",
        "       diag_kind='kde'\n",
        "             )"
      ],
      "execution_count": 12,
      "outputs": [
        {
          "output_type": "execute_result",
          "data": {
            "text/plain": [
              "<seaborn.axisgrid.PairGrid at 0x7fa4f24765d0>"
            ]
          },
          "metadata": {
            "tags": []
          },
          "execution_count": 12
        },
        {
          "output_type": "display_data",
          "data": {
            "image/png": "[encoded data removed]",
            "text/plain": [
              "<Figure size 360x360 with 6 Axes>"
            ]
          },
          "metadata": {
            "tags": []
          }
        }
      ]
    },
    {
      "cell_type": "markdown",
      "metadata": {
        "id": "F-R4GpnNvBoH"
      },
      "source": [
        "As the points kind of all lie on a line, we can see that using Linear Regression would be best option."
      ]
    },
    {
      "cell_type": "markdown",
      "metadata": {
        "id": "SIuvdQAs9Ohx"
      },
      "source": [
        "#Data Split\n",
        "\n",
        "We will be spliting the data in 80-20 format"
      ]
    },
    {
      "cell_type": "code",
      "metadata": {
        "colab": {
          "base_uri": "https://localhost:8080/"
        },
        "id": "ofvCLhwA9SAP",
        "outputId": "552b2860-bcc7-42f8-9351-245c78938627"
      },
      "source": [
        "#80-20 train-test percent split\n",
        "\n",
        "trainDataset = uniMathData.sample(frac=0.8, random_state=0) \n",
        "testDataset = uniMathData.drop(trainDataset.index)\n",
        "\n",
        "print(trainDataset.head())\n",
        "print(testDataset.head())"
      ],
      "execution_count": 13,
      "outputs": [
        {
          "output_type": "stream",
          "text": [
            "     G1  G3\n",
            "329  14  14\n",
            "318  11  10\n",
            "317   9   9\n",
            "65   16  15\n",
            "59   15  16\n",
            "    G1  G3\n",
            "9   14  15\n",
            "25   6   8\n",
            "28  11  11\n",
            "31  17  17\n",
            "32  17  16\n"
          ],
          "name": "stdout"
        }
      ]
    },
    {
      "cell_type": "code",
      "metadata": {
        "colab": {
          "base_uri": "https://localhost:8080/"
        },
        "id": "WyXignRH9h4s",
        "outputId": "1f19ae2d-2ac6-4052-b4bb-732ac6542a37"
      },
      "source": [
        "print(trainDataset.shape)\n",
        "print(testDataset.shape)\n",
        "\n",
        "#(rows, columns)"
      ],
      "execution_count": 14,
      "outputs": [
        {
          "output_type": "stream",
          "text": [
            "(316, 2)\n",
            "(79, 2)\n"
          ],
          "name": "stdout"
        }
      ]
    },
    {
      "cell_type": "code",
      "metadata": {
        "colab": {
          "base_uri": "https://localhost:8080/"
        },
        "id": "gtBaVgJa9oLv",
        "outputId": "87fd6278-46c9-4061-b903-b26796a9f5a6"
      },
      "source": [
        "#copy the trainDataset dataframe for getting the features\n",
        "\n",
        "trainFeatures = trainDataset.copy()\n",
        "testFeatures = testDataset.copy()\n",
        "\n",
        "print(trainFeatures.head())\n",
        "print(testFeatures.head())"
      ],
      "execution_count": 15,
      "outputs": [
        {
          "output_type": "stream",
          "text": [
            "     G1  G3\n",
            "329  14  14\n",
            "318  11  10\n",
            "317   9   9\n",
            "65   16  15\n",
            "59   15  16\n",
            "    G1  G3\n",
            "9   14  15\n",
            "25   6   8\n",
            "28  11  11\n",
            "31  17  17\n",
            "32  17  16\n"
          ],
          "name": "stdout"
        }
      ]
    },
    {
      "cell_type": "code",
      "metadata": {
        "colab": {
          "base_uri": "https://localhost:8080/"
        },
        "id": "0k9HJ5Ck9xzI",
        "outputId": "08975b19-8920-4480-a6c3-11092821ac23"
      },
      "source": [
        "#removing the G3 column and saving it into the labels variable as we want to predict the value of G3 based on value of G1.\n",
        "\n",
        "trainLabels = trainFeatures.pop('G3')\n",
        "testLabels = testFeatures.pop('G3')\n",
        "\n",
        "print(trainLabels.head())\n",
        "print(testLabels.head())"
      ],
      "execution_count": 16,
      "outputs": [
        {
          "output_type": "stream",
          "text": [
            "329    14\n",
            "318    10\n",
            "317     9\n",
            "65     15\n",
            "59     16\n",
            "Name: G3, dtype: int64\n",
            "9     15\n",
            "25     8\n",
            "28    11\n",
            "31    17\n",
            "32    16\n",
            "Name: G3, dtype: int64\n"
          ],
          "name": "stdout"
        }
      ]
    },
    {
      "cell_type": "code",
      "metadata": {
        "colab": {
          "base_uri": "https://localhost:8080/"
        },
        "id": "V5_oXZEB98jP",
        "outputId": "b82b571d-fb47-4ffa-f8d4-d00d14abfe6e"
      },
      "source": [
        "print(trainFeatures.head())\n",
        "print(testFeatures.head())"
      ],
      "execution_count": 17,
      "outputs": [
        {
          "output_type": "stream",
          "text": [
            "     G1\n",
            "329  14\n",
            "318  11\n",
            "317   9\n",
            "65   16\n",
            "59   15\n",
            "    G1\n",
            "9   14\n",
            "25   6\n",
            "28  11\n",
            "31  17\n",
            "32  17\n"
          ],
          "name": "stdout"
        }
      ]
    },
    {
      "cell_type": "markdown",
      "metadata": {
        "id": "QYslj0Ujveje"
      },
      "source": [
        "**Why use neuron? or a neural network?**\n",
        "\n",
        "We will now create a Sequential Model and add a neuron beacuse neurons are very adjustable, you can adjust them as per what is best. They will get auto-adjusted.\n",
        "\n",
        "It will follow the best line or the best model for the data, which might not be the linear regression line, hence we use Neurons."
      ]
    },
    {
      "cell_type": "code",
      "metadata": {
        "id": "8nP01dy0-An3"
      },
      "source": [
        "# univariate -> num(features) = 1\n",
        "# multvariate -> num(features) > 1 = 11\n",
        "#perception model\n",
        "#sequential here implies that the sequence/flow of network will be maintained at all times\n",
        "model = tf.keras.Sequential([\n",
        "                             tf.keras.layers.Dense(1)\n",
        "\n",
        "])"
      ],
      "execution_count": 18,
      "outputs": []
    },
    {
      "cell_type": "code",
      "metadata": {
        "id": "ISI_dY5x-L4F"
      },
      "source": [
        "model.compile(\n",
        "    loss = 'mean_absolute_error', #minimizing the MAE loss\n",
        "    optimizer = tf.keras.optimizers.Adam(0.001), #learning rate specified as 0.001\n",
        "    # optimizer = 'adam', #takes the default learning rate\n",
        "    metrics = ['mae', 'mse'] #meanSquare and meanAbsolute error metrics\n",
        ")\n",
        "\n",
        "#out of 'mse' and 'mae' the model will take 'mae' as the \"loss\" because thats what is mentioned in the first line [loss='mean_absolute_error']"
      ],
      "execution_count": 19,
      "outputs": []
    },
    {
      "cell_type": "code",
      "metadata": {
        "colab": {
          "base_uri": "https://localhost:8080/"
        },
        "id": "YqqHpSj4-VnE",
        "outputId": "209a5546-e3a1-4afe-d1ab-86d814c07261"
      },
      "source": [
        "#training the data for 300 times\n",
        "numEpochs = 300\n",
        "history = model.fit(x = trainFeatures, y = trainLabels, validation_data = (testFeatures, testLabels), epochs = numEpochs)\n",
        "\n",
        "#val_loss denotes the diff b/w the actual label and the predicted value"
      ],
      "execution_count": 20,
      "outputs": [
        {
          "output_type": "stream",
          "text": [
            "Epoch 1/300\n",
            "10/10 [==============================] - 1s 21ms/step - loss: 23.9866 - mae: 23.9866 - mse: 643.4528 - val_loss: 25.3632 - val_mae: 25.3632 - val_mse: 717.0375\n",
            "Epoch 2/300\n",
            "10/10 [==============================] - 0s 3ms/step - loss: 23.8692 - mae: 23.8692 - mse: 637.3048 - val_loss: 25.2386 - val_mae: 25.2386 - val_mse: 710.1676\n",
            "Epoch 3/300\n",
            "10/10 [==============================] - 0s 3ms/step - loss: 23.7515 - mae: 23.7515 - mse: 631.2021 - val_loss: 25.1141 - val_mae: 25.1141 - val_mse: 703.3409\n",
            "Epoch 4/300\n",
            "10/10 [==============================] - 0s 5ms/step - loss: 23.6339 - mae: 23.6339 - mse: 625.1179 - val_loss: 24.9896 - val_mae: 24.9896 - val_mse: 696.5413\n",
            "Epoch 5/300\n",
            "10/10 [==============================] - 0s 3ms/step - loss: 23.5164 - mae: 23.5164 - mse: 619.0902 - val_loss: 24.8652 - val_mae: 24.8652 - val_mse: 689.7825\n",
            "Epoch 6/300\n",
            "10/10 [==============================] - 0s 4ms/step - loss: 23.3988 - mae: 23.3988 - mse: 613.0352 - val_loss: 24.7407 - val_mae: 24.7407 - val_mse: 683.0543\n",
            "Epoch 7/300\n",
            "10/10 [==============================] - 0s 4ms/step - loss: 23.2811 - mae: 23.2811 - mse: 607.0204 - val_loss: 24.6163 - val_mae: 24.6163 - val_mse: 676.3619\n",
            "Epoch 8/300\n",
            "10/10 [==============================] - 0s 3ms/step - loss: 23.1642 - mae: 23.1642 - mse: 601.1603 - val_loss: 24.4912 - val_mae: 24.4912 - val_mse: 669.6683\n",
            "Epoch 9/300\n",
            "10/10 [==============================] - 0s 3ms/step - loss: 23.0460 - mae: 23.0460 - mse: 595.1634 - val_loss: 24.3669 - val_mae: 24.3669 - val_mse: 663.0471\n",
            "Epoch 10/300\n",
            "10/10 [==============================] - 0s 4ms/step - loss: 22.9285 - mae: 22.9285 - mse: 589.3033 - val_loss: 24.2424 - val_mae: 24.2424 - val_mse: 656.4531\n",
            "Epoch 11/300\n",
            "10/10 [==============================] - 0s 4ms/step - loss: 22.8115 - mae: 22.8115 - mse: 583.5220 - val_loss: 24.1175 - val_mae: 24.1175 - val_mse: 649.8666\n",
            "Epoch 12/300\n",
            "10/10 [==============================] - 0s 4ms/step - loss: 22.6933 - mae: 22.6933 - mse: 577.5883 - val_loss: 23.9932 - val_mae: 23.9932 - val_mse: 643.3475\n",
            "Epoch 13/300\n",
            "10/10 [==============================] - 0s 4ms/step - loss: 22.5761 - mae: 22.5761 - mse: 571.8298 - val_loss: 23.8685 - val_mae: 23.8685 - val_mse: 636.8436\n",
            "Epoch 14/300\n",
            "10/10 [==============================] - 0s 3ms/step - loss: 22.4577 - mae: 22.4577 - mse: 565.9502 - val_loss: 23.7446 - val_mae: 23.7446 - val_mse: 630.4090\n",
            "Epoch 15/300\n",
            "10/10 [==============================] - 0s 3ms/step - loss: 22.3410 - mae: 22.3410 - mse: 560.2856 - val_loss: 23.6197 - val_mae: 23.6197 - val_mse: 623.9569\n",
            "Epoch 16/300\n",
            "10/10 [==============================] - 0s 4ms/step - loss: 22.2231 - mae: 22.2231 - mse: 554.5662 - val_loss: 23.4950 - val_mae: 23.4950 - val_mse: 617.5518\n",
            "Epoch 17/300\n",
            "10/10 [==============================] - 0s 3ms/step - loss: 22.1054 - mae: 22.1054 - mse: 548.8729 - val_loss: 23.3705 - val_mae: 23.3705 - val_mse: 611.1917\n",
            "Epoch 18/300\n",
            "10/10 [==============================] - 0s 3ms/step - loss: 21.9882 - mae: 21.9882 - mse: 543.2554 - val_loss: 23.2457 - val_mae: 23.2457 - val_mse: 604.8453\n",
            "Epoch 19/300\n",
            "10/10 [==============================] - 0s 3ms/step - loss: 21.8706 - mae: 21.8706 - mse: 537.6298 - val_loss: 23.1210 - val_mae: 23.1210 - val_mse: 598.5382\n",
            "Epoch 20/300\n",
            "10/10 [==============================] - 0s 3ms/step - loss: 21.7527 - mae: 21.7527 - mse: 531.9676 - val_loss: 22.9968 - val_mae: 22.9968 - val_mse: 592.2892\n",
            "Epoch 21/300\n",
            "10/10 [==============================] - 0s 4ms/step - loss: 21.6354 - mae: 21.6354 - mse: 526.4567 - val_loss: 22.8723 - val_mae: 22.8723 - val_mse: 586.0601\n",
            "Epoch 22/300\n",
            "10/10 [==============================] - 0s 4ms/step - loss: 21.5181 - mae: 21.5181 - mse: 520.9538 - val_loss: 22.7475 - val_mae: 22.7475 - val_mse: 579.8506\n",
            "Epoch 23/300\n",
            "10/10 [==============================] - 0s 3ms/step - loss: 21.4003 - mae: 21.4003 - mse: 515.4022 - val_loss: 22.6231 - val_mae: 22.6231 - val_mse: 573.6932\n",
            "Epoch 24/300\n",
            "10/10 [==============================] - 0s 3ms/step - loss: 21.2832 - mae: 21.2832 - mse: 509.9767 - val_loss: 22.4984 - val_mae: 22.4984 - val_mse: 567.5516\n",
            "Epoch 25/300\n",
            "10/10 [==============================] - 0s 4ms/step - loss: 21.1657 - mae: 21.1657 - mse: 504.5482 - val_loss: 22.3738 - val_mae: 22.3738 - val_mse: 561.4504\n",
            "Epoch 26/300\n",
            "10/10 [==============================] - 0s 4ms/step - loss: 21.0475 - mae: 21.0475 - mse: 499.0761 - val_loss: 22.2498 - val_mae: 22.2498 - val_mse: 555.4124\n",
            "Epoch 27/300\n",
            "10/10 [==============================] - 0s 4ms/step - loss: 20.9299 - mae: 20.9299 - mse: 493.6480 - val_loss: 22.1258 - val_mae: 22.1258 - val_mse: 549.4062\n",
            "Epoch 28/300\n",
            "10/10 [==============================] - 0s 3ms/step - loss: 20.8130 - mae: 20.8130 - mse: 488.3430 - val_loss: 22.0011 - val_mae: 22.0011 - val_mse: 543.3986\n",
            "Epoch 29/300\n",
            "10/10 [==============================] - 0s 4ms/step - loss: 20.6953 - mae: 20.6953 - mse: 482.9673 - val_loss: 21.8765 - val_mae: 21.8765 - val_mse: 537.4314\n",
            "Epoch 30/300\n",
            "10/10 [==============================] - 0s 4ms/step - loss: 20.5783 - mae: 20.5783 - mse: 477.7596 - val_loss: 21.7514 - val_mae: 21.7514 - val_mse: 531.4717\n",
            "Epoch 31/300\n",
            "10/10 [==============================] - 0s 3ms/step - loss: 20.4599 - mae: 20.4599 - mse: 472.4221 - val_loss: 21.6272 - val_mae: 21.6272 - val_mse: 525.5912\n",
            "Epoch 32/300\n",
            "10/10 [==============================] - 0s 4ms/step - loss: 20.3423 - mae: 20.3423 - mse: 467.1807 - val_loss: 21.5030 - val_mae: 21.5030 - val_mse: 519.7448\n",
            "Epoch 33/300\n",
            "10/10 [==============================] - 0s 4ms/step - loss: 20.2250 - mae: 20.2250 - mse: 461.9601 - val_loss: 21.3785 - val_mae: 21.3785 - val_mse: 513.9148\n",
            "Epoch 34/300\n",
            "10/10 [==============================] - 0s 4ms/step - loss: 20.1076 - mae: 20.1076 - mse: 456.8346 - val_loss: 21.2538 - val_mae: 21.2538 - val_mse: 508.1085\n",
            "Epoch 35/300\n",
            "10/10 [==============================] - 0s 4ms/step - loss: 19.9897 - mae: 19.9897 - mse: 451.6165 - val_loss: 21.1294 - val_mae: 21.1294 - val_mse: 502.3520\n",
            "Epoch 36/300\n",
            "10/10 [==============================] - 0s 4ms/step - loss: 19.8725 - mae: 19.8725 - mse: 446.5422 - val_loss: 21.0047 - val_mae: 21.0047 - val_mse: 496.6126\n",
            "Epoch 37/300\n",
            "10/10 [==============================] - 0s 3ms/step - loss: 19.7546 - mae: 19.7546 - mse: 441.4398 - val_loss: 20.8804 - val_mae: 20.8804 - val_mse: 490.9243\n",
            "Epoch 38/300\n",
            "10/10 [==============================] - 0s 3ms/step - loss: 19.6381 - mae: 19.6381 - mse: 436.4721 - val_loss: 20.7550 - val_mae: 20.7550 - val_mse: 485.2203\n",
            "Epoch 39/300\n",
            "10/10 [==============================] - 0s 4ms/step - loss: 19.5194 - mae: 19.5194 - mse: 431.3428 - val_loss: 20.6308 - val_mae: 20.6308 - val_mse: 479.6060\n",
            "Epoch 40/300\n",
            "10/10 [==============================] - 0s 4ms/step - loss: 19.4022 - mae: 19.4022 - mse: 426.3767 - val_loss: 20.5063 - val_mae: 20.5063 - val_mse: 474.0096\n",
            "Epoch 41/300\n",
            "10/10 [==============================] - 0s 4ms/step - loss: 19.2847 - mae: 19.2847 - mse: 421.3929 - val_loss: 20.3819 - val_mae: 20.3819 - val_mse: 468.4499\n",
            "Epoch 42/300\n",
            "10/10 [==============================] - 0s 4ms/step - loss: 19.1672 - mae: 19.1672 - mse: 416.4554 - val_loss: 20.2575 - val_mae: 20.2575 - val_mse: 462.9250\n",
            "Epoch 43/300\n",
            "10/10 [==============================] - 0s 6ms/step - loss: 19.0496 - mae: 19.0496 - mse: 411.5471 - val_loss: 20.1330 - val_mae: 20.1330 - val_mse: 457.4301\n",
            "Epoch 44/300\n",
            "10/10 [==============================] - 0s 4ms/step - loss: 18.9320 - mae: 18.9320 - mse: 406.6481 - val_loss: 20.0087 - val_mae: 20.0087 - val_mse: 451.9727\n",
            "Epoch 45/300\n",
            "10/10 [==============================] - 0s 3ms/step - loss: 18.8148 - mae: 18.8148 - mse: 401.8216 - val_loss: 19.8840 - val_mae: 19.8840 - val_mse: 446.5344\n",
            "Epoch 46/300\n",
            "10/10 [==============================] - 0s 4ms/step - loss: 18.6973 - mae: 18.6973 - mse: 397.0170 - val_loss: 19.7593 - val_mae: 19.7593 - val_mse: 441.1295\n",
            "Epoch 47/300\n",
            "10/10 [==============================] - 0s 3ms/step - loss: 18.5796 - mae: 18.5796 - mse: 392.2289 - val_loss: 19.6347 - val_mae: 19.6347 - val_mse: 435.7646\n",
            "Epoch 48/300\n",
            "10/10 [==============================] - 0s 3ms/step - loss: 18.4614 - mae: 18.4614 - mse: 387.3884 - val_loss: 19.5109 - val_mae: 19.5109 - val_mse: 430.4626\n",
            "Epoch 49/300\n",
            "10/10 [==============================] - 0s 5ms/step - loss: 18.3448 - mae: 18.3448 - mse: 382.7391 - val_loss: 19.3859 - val_mae: 19.3859 - val_mse: 425.1448\n",
            "Epoch 50/300\n",
            "10/10 [==============================] - 0s 5ms/step - loss: 18.2267 - mae: 18.2267 - mse: 377.9954 - val_loss: 19.2614 - val_mae: 19.2614 - val_mse: 419.8858\n",
            "Epoch 51/300\n",
            "10/10 [==============================] - 0s 3ms/step - loss: 18.1094 - mae: 18.1094 - mse: 373.3661 - val_loss: 19.1368 - val_mae: 19.1368 - val_mse: 414.6496\n",
            "Epoch 52/300\n",
            "10/10 [==============================] - 0s 4ms/step - loss: 17.9919 - mae: 17.9919 - mse: 368.6878 - val_loss: 19.0121 - val_mae: 19.0121 - val_mse: 409.4453\n",
            "Epoch 53/300\n",
            "10/10 [==============================] - 0s 3ms/step - loss: 17.8740 - mae: 17.8740 - mse: 364.0671 - val_loss: 18.8878 - val_mae: 18.8878 - val_mse: 404.2918\n",
            "Epoch 54/300\n",
            "10/10 [==============================] - 0s 3ms/step - loss: 17.7566 - mae: 17.7566 - mse: 359.4819 - val_loss: 18.7633 - val_mae: 18.7633 - val_mse: 399.1633\n",
            "Epoch 55/300\n",
            "10/10 [==============================] - 0s 3ms/step - loss: 17.6391 - mae: 17.6391 - mse: 354.9289 - val_loss: 18.6388 - val_mae: 18.6388 - val_mse: 394.0675\n",
            "Epoch 56/300\n",
            "10/10 [==============================] - 0s 4ms/step - loss: 17.5219 - mae: 17.5219 - mse: 350.4726 - val_loss: 18.5138 - val_mae: 18.5138 - val_mse: 388.9840\n",
            "Epoch 57/300\n",
            "10/10 [==============================] - 0s 4ms/step - loss: 17.4031 - mae: 17.4031 - mse: 345.8526 - val_loss: 18.3902 - val_mae: 18.3902 - val_mse: 383.9884\n",
            "Epoch 58/300\n",
            "10/10 [==============================] - 0s 5ms/step - loss: 17.2866 - mae: 17.2866 - mse: 341.4523 - val_loss: 18.2654 - val_mae: 18.2654 - val_mse: 378.9798\n",
            "Epoch 59/300\n",
            "10/10 [==============================] - 0s 4ms/step - loss: 17.1688 - mae: 17.1688 - mse: 337.0187 - val_loss: 18.1408 - val_mae: 18.1408 - val_mse: 374.0151\n",
            "Epoch 60/300\n",
            "10/10 [==============================] - 0s 4ms/step - loss: 17.0515 - mae: 17.0515 - mse: 332.6567 - val_loss: 18.0160 - val_mae: 18.0160 - val_mse: 369.0742\n",
            "Epoch 61/300\n",
            "10/10 [==============================] - 0s 3ms/step - loss: 16.9336 - mae: 16.9336 - mse: 328.2455 - val_loss: 17.8915 - val_mae: 17.8915 - val_mse: 364.1778\n",
            "Epoch 62/300\n",
            "10/10 [==============================] - 0s 3ms/step - loss: 16.8165 - mae: 16.8165 - mse: 323.9435 - val_loss: 17.7666 - val_mae: 17.7666 - val_mse: 359.2988\n",
            "Epoch 63/300\n",
            "10/10 [==============================] - 0s 3ms/step - loss: 16.6988 - mae: 16.6988 - mse: 319.6257 - val_loss: 17.6419 - val_mae: 17.6419 - val_mse: 354.4624\n",
            "Epoch 64/300\n",
            "10/10 [==============================] - 0s 4ms/step - loss: 16.5807 - mae: 16.5807 - mse: 315.2933 - val_loss: 17.5178 - val_mae: 17.5178 - val_mse: 349.6803\n",
            "Epoch 65/300\n",
            "10/10 [==============================] - 0s 4ms/step - loss: 16.4639 - mae: 16.4639 - mse: 311.0920 - val_loss: 17.3928 - val_mae: 17.3928 - val_mse: 344.9012\n",
            "Epoch 66/300\n",
            "10/10 [==============================] - 0s 4ms/step - loss: 16.3453 - mae: 16.3453 - mse: 306.7814 - val_loss: 17.2690 - val_mae: 17.2690 - val_mse: 340.1967\n",
            "Epoch 67/300\n",
            "10/10 [==============================] - 0s 4ms/step - loss: 16.2290 - mae: 16.2290 - mse: 302.6869 - val_loss: 17.1438 - val_mae: 17.1438 - val_mse: 335.4736\n",
            "Epoch 68/300\n",
            "10/10 [==============================] - 0s 4ms/step - loss: 16.1104 - mae: 16.1104 - mse: 298.4400 - val_loss: 17.0196 - val_mae: 17.0196 - val_mse: 330.8242\n",
            "Epoch 69/300\n",
            "10/10 [==============================] - 0s 4ms/step - loss: 15.9931 - mae: 15.9931 - mse: 294.2900 - val_loss: 16.8952 - val_mae: 16.8952 - val_mse: 326.1996\n",
            "Epoch 70/300\n",
            "10/10 [==============================] - 0s 4ms/step - loss: 15.8753 - mae: 15.8753 - mse: 290.1764 - val_loss: 16.7710 - val_mae: 16.7710 - val_mse: 321.6120\n",
            "Epoch 71/300\n",
            "10/10 [==============================] - 0s 4ms/step - loss: 15.7583 - mae: 15.7583 - mse: 286.1462 - val_loss: 16.6461 - val_mae: 16.6461 - val_mse: 317.0356\n",
            "Epoch 72/300\n",
            "10/10 [==============================] - 0s 4ms/step - loss: 15.6405 - mae: 15.6405 - mse: 282.0666 - val_loss: 16.5215 - val_mae: 16.5215 - val_mse: 312.5037\n",
            "Epoch 73/300\n",
            "10/10 [==============================] - 0s 4ms/step - loss: 15.5230 - mae: 15.5230 - mse: 278.0835 - val_loss: 16.3967 - val_mae: 16.3967 - val_mse: 307.9981\n",
            "Epoch 74/300\n",
            "10/10 [==============================] - 0s 5ms/step - loss: 15.4054 - mae: 15.4054 - mse: 274.0688 - val_loss: 16.2721 - val_mae: 16.2721 - val_mse: 303.5309\n",
            "Epoch 75/300\n",
            "10/10 [==============================] - 0s 3ms/step - loss: 15.2873 - mae: 15.2873 - mse: 270.0858 - val_loss: 16.1479 - val_mae: 16.1479 - val_mse: 299.1131\n",
            "Epoch 76/300\n",
            "10/10 [==============================] - 0s 3ms/step - loss: 15.1703 - mae: 15.1703 - mse: 266.2039 - val_loss: 16.0231 - val_mae: 16.0231 - val_mse: 294.7057\n",
            "Epoch 77/300\n",
            "10/10 [==============================] - 0s 4ms/step - loss: 15.0522 - mae: 15.0522 - mse: 262.2590 - val_loss: 15.8989 - val_mae: 15.8989 - val_mse: 290.3533\n",
            "Epoch 78/300\n",
            "10/10 [==============================] - 0s 4ms/step - loss: 14.9360 - mae: 14.9360 - mse: 258.5013 - val_loss: 15.7732 - val_mae: 15.7732 - val_mse: 285.9836\n",
            "Epoch 79/300\n",
            "10/10 [==============================] - 0s 5ms/step - loss: 14.8167 - mae: 14.8167 - mse: 254.5443 - val_loss: 15.6493 - val_mae: 15.6493 - val_mse: 281.7083\n",
            "Epoch 80/300\n",
            "10/10 [==============================] - 0s 4ms/step - loss: 14.6998 - mae: 14.6998 - mse: 250.7877 - val_loss: 15.5247 - val_mae: 15.5247 - val_mse: 277.4413\n",
            "Epoch 81/300\n",
            "10/10 [==============================] - 0s 5ms/step - loss: 14.5817 - mae: 14.5817 - mse: 246.9360 - val_loss: 15.4006 - val_mae: 15.4006 - val_mse: 273.2281\n",
            "Epoch 82/300\n",
            "10/10 [==============================] - 0s 4ms/step - loss: 14.4646 - mae: 14.4646 - mse: 243.2311 - val_loss: 15.2761 - val_mae: 15.2761 - val_mse: 269.0329\n",
            "Epoch 83/300\n",
            "10/10 [==============================] - 0s 4ms/step - loss: 14.3480 - mae: 14.3480 - mse: 239.5927 - val_loss: 15.1506 - val_mae: 15.1506 - val_mse: 264.8360\n",
            "Epoch 84/300\n",
            "10/10 [==============================] - 0s 4ms/step - loss: 14.2290 - mae: 14.2290 - mse: 235.8082 - val_loss: 15.0265 - val_mae: 15.0265 - val_mse: 260.7218\n",
            "Epoch 85/300\n",
            "10/10 [==============================] - 0s 4ms/step - loss: 14.1124 - mae: 14.1124 - mse: 232.2221 - val_loss: 14.9016 - val_mae: 14.9016 - val_mse: 256.6108\n",
            "Epoch 86/300\n",
            "10/10 [==============================] - 0s 4ms/step - loss: 13.9941 - mae: 13.9941 - mse: 228.5394 - val_loss: 14.7774 - val_mae: 14.7774 - val_mse: 252.5603\n",
            "Epoch 87/300\n",
            "10/10 [==============================] - 0s 4ms/step - loss: 13.8767 - mae: 13.8767 - mse: 224.9347 - val_loss: 14.6530 - val_mae: 14.6530 - val_mse: 248.5345\n",
            "Epoch 88/300\n",
            "10/10 [==============================] - 0s 4ms/step - loss: 13.7594 - mae: 13.7594 - mse: 221.3851 - val_loss: 14.5283 - val_mae: 14.5283 - val_mse: 244.5326\n",
            "Epoch 89/300\n",
            "10/10 [==============================] - 0s 5ms/step - loss: 13.6412 - mae: 13.6412 - mse: 217.7883 - val_loss: 14.4044 - val_mae: 14.4044 - val_mse: 240.5899\n",
            "Epoch 90/300\n",
            "10/10 [==============================] - 0s 4ms/step - loss: 13.5247 - mae: 13.5247 - mse: 214.3347 - val_loss: 14.2794 - val_mae: 14.2794 - val_mse: 236.6440\n",
            "Epoch 91/300\n",
            "10/10 [==============================] - 0s 4ms/step - loss: 13.4064 - mae: 13.4064 - mse: 210.8170 - val_loss: 14.1551 - val_mae: 14.1551 - val_mse: 232.7557\n",
            "Epoch 92/300\n",
            "10/10 [==============================] - 0s 4ms/step - loss: 13.2889 - mae: 13.2889 - mse: 207.3723 - val_loss: 14.0307 - val_mae: 14.0307 - val_mse: 228.8971\n",
            "Epoch 93/300\n",
            "10/10 [==============================] - 0s 4ms/step - loss: 13.1725 - mae: 13.1725 - mse: 204.0397 - val_loss: 13.9051 - val_mae: 13.9051 - val_mse: 225.0327\n",
            "Epoch 94/300\n",
            "10/10 [==============================] - 0s 4ms/step - loss: 13.0531 - mae: 13.0531 - mse: 200.5206 - val_loss: 13.7814 - val_mae: 13.7814 - val_mse: 221.2630\n",
            "Epoch 95/300\n",
            "10/10 [==============================] - 0s 4ms/step - loss: 12.9368 - mae: 12.9368 - mse: 197.2337 - val_loss: 13.6564 - val_mae: 13.6564 - val_mse: 217.4846\n",
            "Epoch 96/300\n",
            "10/10 [==============================] - 0s 4ms/step - loss: 12.8191 - mae: 12.8191 - mse: 193.8969 - val_loss: 13.5315 - val_mae: 13.5315 - val_mse: 213.7449\n",
            "Epoch 97/300\n",
            "10/10 [==============================] - 0s 5ms/step - loss: 12.7012 - mae: 12.7012 - mse: 190.5762 - val_loss: 13.4071 - val_mae: 13.4071 - val_mse: 210.0505\n",
            "Epoch 98/300\n",
            "10/10 [==============================] - 0s 3ms/step - loss: 12.5834 - mae: 12.5834 - mse: 187.2831 - val_loss: 13.2828 - val_mae: 13.2828 - val_mse: 206.3963\n",
            "Epoch 99/300\n",
            "10/10 [==============================] - 0s 4ms/step - loss: 12.4660 - mae: 12.4660 - mse: 184.0415 - val_loss: 13.1585 - val_mae: 13.1585 - val_mse: 202.7717\n",
            "Epoch 100/300\n",
            "10/10 [==============================] - 0s 4ms/step - loss: 12.3489 - mae: 12.3489 - mse: 180.8916 - val_loss: 13.0335 - val_mae: 13.0335 - val_mse: 199.1635\n",
            "Epoch 101/300\n",
            "10/10 [==============================] - 0s 4ms/step - loss: 12.2312 - mae: 12.2312 - mse: 177.6765 - val_loss: 12.9088 - val_mae: 12.9088 - val_mse: 195.5952\n",
            "Epoch 102/300\n",
            "10/10 [==============================] - 0s 4ms/step - loss: 12.1131 - mae: 12.1131 - mse: 174.4884 - val_loss: 12.7846 - val_mae: 12.7846 - val_mse: 192.0763\n",
            "Epoch 103/300\n",
            "10/10 [==============================] - 0s 4ms/step - loss: 11.9955 - mae: 11.9955 - mse: 171.3333 - val_loss: 12.6607 - val_mae: 12.6607 - val_mse: 188.5987\n",
            "Epoch 104/300\n",
            "10/10 [==============================] - 0s 4ms/step - loss: 11.8792 - mae: 11.8792 - mse: 168.2968 - val_loss: 12.5361 - val_mae: 12.5361 - val_mse: 185.1321\n",
            "Epoch 105/300\n",
            "10/10 [==============================] - 0s 4ms/step - loss: 11.7620 - mae: 11.7620 - mse: 165.2458 - val_loss: 12.4116 - val_mae: 12.4116 - val_mse: 181.7043\n",
            "Epoch 106/300\n",
            "10/10 [==============================] - 0s 4ms/step - loss: 11.6456 - mae: 11.6456 - mse: 162.2664 - val_loss: 12.2866 - val_mae: 12.2866 - val_mse: 178.2953\n",
            "Epoch 107/300\n",
            "10/10 [==============================] - 0s 4ms/step - loss: 11.5273 - mae: 11.5273 - mse: 159.1769 - val_loss: 12.1632 - val_mae: 12.1632 - val_mse: 174.9623\n",
            "Epoch 108/300\n",
            "10/10 [==============================] - 0s 4ms/step - loss: 11.4122 - mae: 11.4122 - mse: 156.2346 - val_loss: 12.0393 - val_mae: 12.0393 - val_mse: 171.6499\n",
            "Epoch 109/300\n",
            "10/10 [==============================] - 0s 4ms/step - loss: 11.2964 - mae: 11.2964 - mse: 153.3077 - val_loss: 11.9158 - val_mae: 11.9158 - val_mse: 168.3800\n",
            "Epoch 110/300\n",
            "10/10 [==============================] - 0s 4ms/step - loss: 11.1810 - mae: 11.1810 - mse: 150.4127 - val_loss: 11.7941 - val_mae: 11.7941 - val_mse: 165.1643\n",
            "Epoch 111/300\n",
            "10/10 [==============================] - 0s 4ms/step - loss: 11.0710 - mae: 11.0710 - mse: 147.6464 - val_loss: 11.6737 - val_mae: 11.6737 - val_mse: 161.9969\n",
            "Epoch 112/300\n",
            "10/10 [==============================] - 0s 4ms/step - loss: 10.9605 - mae: 10.9605 - mse: 144.8409 - val_loss: 11.5568 - val_mae: 11.5568 - val_mse: 158.9123\n",
            "Epoch 113/300\n",
            "10/10 [==============================] - 0s 3ms/step - loss: 10.8533 - mae: 10.8533 - mse: 142.0773 - val_loss: 11.4486 - val_mae: 11.4486 - val_mse: 155.9241\n",
            "Epoch 114/300\n",
            "10/10 [==============================] - 0s 4ms/step - loss: 10.7512 - mae: 10.7512 - mse: 139.4570 - val_loss: 11.3415 - val_mae: 11.3415 - val_mse: 152.9588\n",
            "Epoch 115/300\n",
            "10/10 [==============================] - 0s 4ms/step - loss: 10.6492 - mae: 10.6492 - mse: 136.8333 - val_loss: 11.2385 - val_mae: 11.2385 - val_mse: 150.0539\n",
            "Epoch 116/300\n",
            "10/10 [==============================] - 0s 3ms/step - loss: 10.5491 - mae: 10.5491 - mse: 134.3353 - val_loss: 11.1363 - val_mae: 11.1363 - val_mse: 147.2024\n",
            "Epoch 117/300\n",
            "10/10 [==============================] - 0s 3ms/step - loss: 10.4510 - mae: 10.4510 - mse: 131.7610 - val_loss: 11.0363 - val_mae: 11.0363 - val_mse: 144.4411\n",
            "Epoch 118/300\n",
            "10/10 [==============================] - 0s 4ms/step - loss: 10.3590 - mae: 10.3590 - mse: 129.3625 - val_loss: 10.9372 - val_mae: 10.9372 - val_mse: 141.7282\n",
            "Epoch 119/300\n",
            "10/10 [==============================] - 0s 5ms/step - loss: 10.2675 - mae: 10.2675 - mse: 126.9853 - val_loss: 10.8407 - val_mae: 10.8407 - val_mse: 139.1169\n",
            "Epoch 120/300\n",
            "10/10 [==============================] - 0s 5ms/step - loss: 10.1800 - mae: 10.1800 - mse: 124.6715 - val_loss: 10.7441 - val_mae: 10.7441 - val_mse: 136.5252\n",
            "Epoch 121/300\n",
            "10/10 [==============================] - 0s 4ms/step - loss: 10.0922 - mae: 10.0922 - mse: 122.4096 - val_loss: 10.6478 - val_mae: 10.6478 - val_mse: 133.9665\n",
            "Epoch 122/300\n",
            "10/10 [==============================] - 0s 4ms/step - loss: 10.0043 - mae: 10.0043 - mse: 120.1407 - val_loss: 10.5518 - val_mae: 10.5518 - val_mse: 131.4427\n",
            "Epoch 123/300\n",
            "10/10 [==============================] - 0s 4ms/step - loss: 9.9160 - mae: 9.9160 - mse: 117.9061 - val_loss: 10.4566 - val_mae: 10.4566 - val_mse: 128.9667\n",
            "Epoch 124/300\n",
            "10/10 [==============================] - 0s 4ms/step - loss: 9.8287 - mae: 9.8287 - mse: 115.7063 - val_loss: 10.3607 - val_mae: 10.3607 - val_mse: 126.4939\n",
            "Epoch 125/300\n",
            "10/10 [==============================] - 0s 4ms/step - loss: 9.7422 - mae: 9.7422 - mse: 113.5388 - val_loss: 10.2630 - val_mae: 10.2630 - val_mse: 124.0041\n",
            "Epoch 126/300\n",
            "10/10 [==============================] - 0s 4ms/step - loss: 9.6531 - mae: 9.6531 - mse: 111.3685 - val_loss: 10.1663 - val_mae: 10.1663 - val_mse: 121.5630\n",
            "Epoch 127/300\n",
            "10/10 [==============================] - 0s 4ms/step - loss: 9.5645 - mae: 9.5645 - mse: 109.1906 - val_loss: 10.0699 - val_mae: 10.0699 - val_mse: 119.1577\n",
            "Epoch 128/300\n",
            "10/10 [==============================] - 0s 4ms/step - loss: 9.4759 - mae: 9.4759 - mse: 107.0759 - val_loss: 9.9738 - val_mae: 9.9738 - val_mse: 116.7821\n",
            "Epoch 129/300\n",
            "10/10 [==============================] - 0s 3ms/step - loss: 9.3881 - mae: 9.3881 - mse: 104.9391 - val_loss: 9.8768 - val_mae: 9.8768 - val_mse: 114.4118\n",
            "Epoch 130/300\n",
            "10/10 [==============================] - 0s 3ms/step - loss: 9.2992 - mae: 9.2992 - mse: 102.8376 - val_loss: 9.7801 - val_mae: 9.7801 - val_mse: 112.0754\n",
            "Epoch 131/300\n",
            "10/10 [==============================] - 0s 4ms/step - loss: 9.2104 - mae: 9.2104 - mse: 100.7911 - val_loss: 9.6834 - val_mae: 9.6834 - val_mse: 109.7633\n",
            "Epoch 132/300\n",
            "10/10 [==============================] - 0s 4ms/step - loss: 9.1223 - mae: 9.1223 - mse: 98.7411 - val_loss: 9.5855 - val_mae: 9.5855 - val_mse: 107.4508\n",
            "Epoch 133/300\n",
            "10/10 [==============================] - 0s 4ms/step - loss: 9.0321 - mae: 9.0321 - mse: 96.7153 - val_loss: 9.4892 - val_mae: 9.4892 - val_mse: 105.1995\n",
            "Epoch 134/300\n",
            "10/10 [==============================] - 0s 5ms/step - loss: 8.9442 - mae: 8.9442 - mse: 94.6932 - val_loss: 9.3913 - val_mae: 9.3913 - val_mse: 102.9376\n",
            "Epoch 135/300\n",
            "10/10 [==============================] - 0s 4ms/step - loss: 8.8554 - mae: 8.8554 - mse: 92.7193 - val_loss: 9.2927 - val_mae: 9.2927 - val_mse: 100.6863\n",
            "Epoch 136/300\n",
            "10/10 [==============================] - 0s 4ms/step - loss: 8.7653 - mae: 8.7653 - mse: 90.7405 - val_loss: 9.1951 - val_mae: 9.1951 - val_mse: 98.4852\n",
            "Epoch 137/300\n",
            "10/10 [==============================] - 0s 3ms/step - loss: 8.6759 - mae: 8.6759 - mse: 88.7870 - val_loss: 9.0974 - val_mae: 9.0974 - val_mse: 96.3081\n",
            "Epoch 138/300\n",
            "10/10 [==============================] - 0s 3ms/step - loss: 8.5871 - mae: 8.5871 - mse: 86.8779 - val_loss: 8.9986 - val_mae: 8.9986 - val_mse: 94.1316\n",
            "Epoch 139/300\n",
            "10/10 [==============================] - 0s 4ms/step - loss: 8.4959 - mae: 8.4959 - mse: 84.9555 - val_loss: 8.9012 - val_mae: 8.9012 - val_mse: 92.0134\n",
            "Epoch 140/300\n",
            "10/10 [==============================] - 0s 3ms/step - loss: 8.4071 - mae: 8.4071 - mse: 83.0922 - val_loss: 8.8026 - val_mae: 8.8026 - val_mse: 89.8946\n",
            "Epoch 141/300\n",
            "10/10 [==============================] - 0s 3ms/step - loss: 8.3175 - mae: 8.3175 - mse: 81.2235 - val_loss: 8.7039 - val_mae: 8.7039 - val_mse: 87.8012\n",
            "Epoch 142/300\n",
            "10/10 [==============================] - 0s 6ms/step - loss: 8.2263 - mae: 8.2263 - mse: 79.3557 - val_loss: 8.6063 - val_mae: 8.6063 - val_mse: 85.7569\n",
            "Epoch 143/300\n",
            "10/10 [==============================] - 0s 4ms/step - loss: 8.1371 - mae: 8.1371 - mse: 77.5253 - val_loss: 8.5074 - val_mae: 8.5074 - val_mse: 83.7129\n",
            "Epoch 144/300\n",
            "10/10 [==============================] - 0s 4ms/step - loss: 8.0474 - mae: 8.0474 - mse: 75.7752 - val_loss: 8.4077 - val_mae: 8.4077 - val_mse: 81.6801\n",
            "Epoch 145/300\n",
            "10/10 [==============================] - 0s 4ms/step - loss: 7.9559 - mae: 7.9559 - mse: 73.9812 - val_loss: 8.3092 - val_mae: 8.3092 - val_mse: 79.6973\n",
            "Epoch 146/300\n",
            "10/10 [==============================] - 0s 5ms/step - loss: 7.8654 - mae: 7.8654 - mse: 72.2119 - val_loss: 8.2105 - val_mae: 8.2105 - val_mse: 77.7382\n",
            "Epoch 147/300\n",
            "10/10 [==============================] - 0s 5ms/step - loss: 7.7760 - mae: 7.7760 - mse: 70.4853 - val_loss: 8.1102 - val_mae: 8.1102 - val_mse: 75.7743\n",
            "Epoch 148/300\n",
            "10/10 [==============================] - 0s 4ms/step - loss: 7.6837 - mae: 7.6837 - mse: 68.7462 - val_loss: 8.0115 - val_mae: 8.0115 - val_mse: 73.8686\n",
            "Epoch 149/300\n",
            "10/10 [==============================] - 0s 4ms/step - loss: 7.5936 - mae: 7.5936 - mse: 67.0762 - val_loss: 7.9119 - val_mae: 7.9119 - val_mse: 71.9717\n",
            "Epoch 150/300\n",
            "10/10 [==============================] - 0s 4ms/step - loss: 7.5016 - mae: 7.5016 - mse: 65.3893 - val_loss: 7.8134 - val_mae: 7.8134 - val_mse: 70.1238\n",
            "Epoch 151/300\n",
            "10/10 [==============================] - 0s 4ms/step - loss: 7.4129 - mae: 7.4129 - mse: 63.7874 - val_loss: 7.7121 - val_mae: 7.7121 - val_mse: 68.2522\n",
            "Epoch 152/300\n",
            "10/10 [==============================] - 0s 4ms/step - loss: 7.3200 - mae: 7.3200 - mse: 62.1318 - val_loss: 7.6127 - val_mae: 7.6127 - val_mse: 66.4422\n",
            "Epoch 153/300\n",
            "10/10 [==============================] - 0s 3ms/step - loss: 7.2295 - mae: 7.2295 - mse: 60.5672 - val_loss: 7.5123 - val_mae: 7.5123 - val_mse: 64.6412\n",
            "Epoch 154/300\n",
            "10/10 [==============================] - 0s 3ms/step - loss: 7.1377 - mae: 7.1377 - mse: 58.9719 - val_loss: 7.4123 - val_mae: 7.4123 - val_mse: 62.8754\n",
            "Epoch 155/300\n",
            "10/10 [==============================] - 0s 6ms/step - loss: 7.0460 - mae: 7.0460 - mse: 57.4027 - val_loss: 7.3124 - val_mae: 7.3124 - val_mse: 61.1375\n",
            "Epoch 156/300\n",
            "10/10 [==============================] - 0s 4ms/step - loss: 6.9550 - mae: 6.9550 - mse: 55.8962 - val_loss: 7.2120 - val_mae: 7.2120 - val_mse: 59.4202\n",
            "Epoch 157/300\n",
            "10/10 [==============================] - 0s 4ms/step - loss: 6.8627 - mae: 6.8627 - mse: 54.3719 - val_loss: 7.1124 - val_mae: 7.1124 - val_mse: 57.7440\n",
            "Epoch 158/300\n",
            "10/10 [==============================] - 0s 4ms/step - loss: 6.7708 - mae: 6.7708 - mse: 52.8855 - val_loss: 7.0129 - val_mae: 7.0129 - val_mse: 56.0951\n",
            "Epoch 159/300\n",
            "10/10 [==============================] - 0s 4ms/step - loss: 6.6805 - mae: 6.6805 - mse: 51.4368 - val_loss: 6.9114 - val_mae: 6.9114 - val_mse: 54.4431\n",
            "Epoch 160/300\n",
            "10/10 [==============================] - 0s 4ms/step - loss: 6.5866 - mae: 6.5866 - mse: 49.9701 - val_loss: 6.8121 - val_mae: 6.8121 - val_mse: 52.8525\n",
            "Epoch 161/300\n",
            "10/10 [==============================] - 0s 4ms/step - loss: 6.4964 - mae: 6.4964 - mse: 48.5974 - val_loss: 6.7103 - val_mae: 6.7103 - val_mse: 51.2523\n",
            "Epoch 162/300\n",
            "10/10 [==============================] - 0s 4ms/step - loss: 6.4021 - mae: 6.4021 - mse: 47.1483 - val_loss: 6.6110 - val_mae: 6.6110 - val_mse: 49.7170\n",
            "Epoch 163/300\n",
            "10/10 [==============================] - 0s 4ms/step - loss: 6.3116 - mae: 6.3116 - mse: 45.8186 - val_loss: 6.5094 - val_mae: 6.5094 - val_mse: 48.1756\n",
            "Epoch 164/300\n",
            "10/10 [==============================] - 0s 3ms/step - loss: 6.2208 - mae: 6.2208 - mse: 44.4917 - val_loss: 6.4063 - val_mae: 6.4063 - val_mse: 46.6392\n",
            "Epoch 165/300\n",
            "10/10 [==============================] - 0s 3ms/step - loss: 6.1263 - mae: 6.1263 - mse: 43.1710 - val_loss: 6.3054 - val_mae: 6.3054 - val_mse: 45.1646\n",
            "Epoch 166/300\n",
            "10/10 [==============================] - 0s 5ms/step - loss: 6.0335 - mae: 6.0335 - mse: 41.8604 - val_loss: 6.2049 - val_mae: 6.2049 - val_mse: 43.7232\n",
            "Epoch 167/300\n",
            "10/10 [==============================] - 0s 4ms/step - loss: 5.9412 - mae: 5.9412 - mse: 40.5822 - val_loss: 6.1041 - val_mae: 6.1041 - val_mse: 42.3059\n",
            "Epoch 168/300\n",
            "10/10 [==============================] - 0s 4ms/step - loss: 5.8503 - mae: 5.8503 - mse: 39.3338 - val_loss: 6.0014 - val_mae: 6.0014 - val_mse: 40.8904\n",
            "Epoch 169/300\n",
            "10/10 [==============================] - 0s 3ms/step - loss: 5.7565 - mae: 5.7565 - mse: 38.1124 - val_loss: 5.9001 - val_mae: 5.9001 - val_mse: 39.5229\n",
            "Epoch 170/300\n",
            "10/10 [==============================] - 0s 4ms/step - loss: 5.6633 - mae: 5.6633 - mse: 36.8854 - val_loss: 5.7994 - val_mae: 5.7994 - val_mse: 38.1907\n",
            "Epoch 171/300\n",
            "10/10 [==============================] - 0s 4ms/step - loss: 5.5702 - mae: 5.5702 - mse: 35.7242 - val_loss: 5.6986 - val_mae: 5.6986 - val_mse: 36.8860\n",
            "Epoch 172/300\n",
            "10/10 [==============================] - 0s 3ms/step - loss: 5.4790 - mae: 5.4790 - mse: 34.5918 - val_loss: 5.5959 - val_mae: 5.5959 - val_mse: 35.5847\n",
            "Epoch 173/300\n",
            "10/10 [==============================] - 0s 4ms/step - loss: 5.3845 - mae: 5.3845 - mse: 33.4478 - val_loss: 5.4949 - val_mae: 5.4949 - val_mse: 34.3335\n",
            "Epoch 174/300\n",
            "10/10 [==============================] - 0s 4ms/step - loss: 5.2916 - mae: 5.2916 - mse: 32.3490 - val_loss: 5.3939 - val_mae: 5.3939 - val_mse: 33.1112\n",
            "Epoch 175/300\n",
            "10/10 [==============================] - 0s 4ms/step - loss: 5.2010 - mae: 5.2010 - mse: 31.2889 - val_loss: 5.2911 - val_mae: 5.2911 - val_mse: 31.8950\n",
            "Epoch 176/300\n",
            "10/10 [==============================] - 0s 4ms/step - loss: 5.1083 - mae: 5.1083 - mse: 30.2432 - val_loss: 5.1895 - val_mae: 5.1895 - val_mse: 30.7103\n",
            "Epoch 177/300\n",
            "10/10 [==============================] - 0s 4ms/step - loss: 5.0140 - mae: 5.0140 - mse: 29.1965 - val_loss: 5.0910 - val_mae: 5.0910 - val_mse: 29.5762\n",
            "Epoch 178/300\n",
            "10/10 [==============================] - 0s 4ms/step - loss: 4.9239 - mae: 4.9239 - mse: 28.2243 - val_loss: 4.9898 - val_mae: 4.9898 - val_mse: 28.4416\n",
            "Epoch 179/300\n",
            "10/10 [==============================] - 0s 4ms/step - loss: 4.8277 - mae: 4.8277 - mse: 27.2105 - val_loss: 4.8926 - val_mae: 4.8926 - val_mse: 27.3789\n",
            "Epoch 180/300\n",
            "10/10 [==============================] - 0s 4ms/step - loss: 4.7387 - mae: 4.7387 - mse: 26.2924 - val_loss: 4.7914 - val_mae: 4.7914 - val_mse: 26.3013\n",
            "Epoch 181/300\n",
            "10/10 [==============================] - 0s 4ms/step - loss: 4.6437 - mae: 4.6437 - mse: 25.3445 - val_loss: 4.6926 - val_mae: 4.6926 - val_mse: 25.2774\n",
            "Epoch 182/300\n",
            "10/10 [==============================] - 0s 4ms/step - loss: 4.5525 - mae: 4.5525 - mse: 24.4660 - val_loss: 4.5924 - val_mae: 4.5924 - val_mse: 24.2675\n",
            "Epoch 183/300\n",
            "10/10 [==============================] - 0s 4ms/step - loss: 4.4601 - mae: 4.4601 - mse: 23.5878 - val_loss: 4.4932 - val_mae: 4.4932 - val_mse: 23.2960\n",
            "Epoch 184/300\n",
            "10/10 [==============================] - 0s 4ms/step - loss: 4.3696 - mae: 4.3696 - mse: 22.7520 - val_loss: 4.3934 - val_mae: 4.3934 - val_mse: 22.3474\n",
            "Epoch 185/300\n",
            "10/10 [==============================] - 0s 3ms/step - loss: 4.2773 - mae: 4.2773 - mse: 21.9258 - val_loss: 4.2949 - val_mae: 4.2949 - val_mse: 21.4395\n",
            "Epoch 186/300\n",
            "10/10 [==============================] - 0s 4ms/step - loss: 4.1871 - mae: 4.1871 - mse: 21.1493 - val_loss: 4.1954 - val_mae: 4.1954 - val_mse: 20.5497\n",
            "Epoch 187/300\n",
            "10/10 [==============================] - 0s 4ms/step - loss: 4.0961 - mae: 4.0961 - mse: 20.3716 - val_loss: 4.0958 - val_mae: 4.0958 - val_mse: 19.6882\n",
            "Epoch 188/300\n",
            "10/10 [==============================] - 0s 4ms/step - loss: 4.0061 - mae: 4.0061 - mse: 19.6389 - val_loss: 3.9961 - val_mae: 3.9961 - val_mse: 18.8540\n",
            "Epoch 189/300\n",
            "10/10 [==============================] - 0s 5ms/step - loss: 3.9159 - mae: 3.9159 - mse: 18.9020 - val_loss: 3.9000 - val_mae: 3.9000 - val_mse: 18.0770\n",
            "Epoch 190/300\n",
            "10/10 [==============================] - 0s 5ms/step - loss: 3.8317 - mae: 3.8317 - mse: 18.2409 - val_loss: 3.8029 - val_mae: 3.8029 - val_mse: 17.3186\n",
            "Epoch 191/300\n",
            "10/10 [==============================] - 0s 5ms/step - loss: 3.7453 - mae: 3.7453 - mse: 17.5848 - val_loss: 3.7076 - val_mae: 3.7076 - val_mse: 16.6005\n",
            "Epoch 192/300\n",
            "10/10 [==============================] - 0s 4ms/step - loss: 3.6605 - mae: 3.6605 - mse: 16.9597 - val_loss: 3.6124 - val_mae: 3.6124 - val_mse: 15.9094\n",
            "Epoch 193/300\n",
            "10/10 [==============================] - 0s 4ms/step - loss: 3.5779 - mae: 3.5779 - mse: 16.3688 - val_loss: 3.5157 - val_mae: 3.5157 - val_mse: 15.2339\n",
            "Epoch 194/300\n",
            "10/10 [==============================] - 0s 4ms/step - loss: 3.4918 - mae: 3.4918 - mse: 15.7676 - val_loss: 3.4225 - val_mae: 3.4225 - val_mse: 14.6081\n",
            "Epoch 195/300\n",
            "10/10 [==============================] - 0s 4ms/step - loss: 3.4104 - mae: 3.4104 - mse: 15.2423 - val_loss: 3.3275 - val_mae: 3.3275 - val_mse: 13.9960\n",
            "Epoch 196/300\n",
            "10/10 [==============================] - 0s 4ms/step - loss: 3.3298 - mae: 3.3298 - mse: 14.7274 - val_loss: 3.2346 - val_mae: 3.2346 - val_mse: 13.4022\n",
            "Epoch 197/300\n",
            "10/10 [==============================] - 0s 4ms/step - loss: 3.2485 - mae: 3.2485 - mse: 14.2377 - val_loss: 3.1430 - val_mae: 3.1430 - val_mse: 12.8415\n",
            "Epoch 198/300\n",
            "10/10 [==============================] - 0s 3ms/step - loss: 3.1666 - mae: 3.1666 - mse: 13.7379 - val_loss: 3.0543 - val_mae: 3.0543 - val_mse: 12.3229\n",
            "Epoch 199/300\n",
            "10/10 [==============================] - 0s 4ms/step - loss: 3.0882 - mae: 3.0882 - mse: 13.2937 - val_loss: 2.9669 - val_mae: 2.9669 - val_mse: 11.8290\n",
            "Epoch 200/300\n",
            "10/10 [==============================] - 0s 4ms/step - loss: 3.0112 - mae: 3.0112 - mse: 12.8827 - val_loss: 2.8803 - val_mae: 2.8803 - val_mse: 11.3541\n",
            "Epoch 201/300\n",
            "10/10 [==============================] - 0s 4ms/step - loss: 2.9325 - mae: 2.9325 - mse: 12.4840 - val_loss: 2.7946 - val_mae: 2.7946 - val_mse: 10.9091\n",
            "Epoch 202/300\n",
            "10/10 [==============================] - 0s 4ms/step - loss: 2.8570 - mae: 2.8570 - mse: 12.1112 - val_loss: 2.7110 - val_mae: 2.7110 - val_mse: 10.4861\n",
            "Epoch 203/300\n",
            "10/10 [==============================] - 0s 4ms/step - loss: 2.7823 - mae: 2.7823 - mse: 11.7432 - val_loss: 2.6298 - val_mae: 2.6298 - val_mse: 10.0984\n",
            "Epoch 204/300\n",
            "10/10 [==============================] - 0s 4ms/step - loss: 2.7105 - mae: 2.7105 - mse: 11.4292 - val_loss: 2.5475 - val_mae: 2.5475 - val_mse: 9.7294\n",
            "Epoch 205/300\n",
            "10/10 [==============================] - 0s 4ms/step - loss: 2.6381 - mae: 2.6381 - mse: 11.1264 - val_loss: 2.4677 - val_mae: 2.4677 - val_mse: 9.3903\n",
            "Epoch 206/300\n",
            "10/10 [==============================] - 0s 4ms/step - loss: 2.5696 - mae: 2.5696 - mse: 10.8543 - val_loss: 2.3935 - val_mae: 2.3935 - val_mse: 9.0860\n",
            "Epoch 207/300\n",
            "10/10 [==============================] - 0s 4ms/step - loss: 2.5038 - mae: 2.5038 - mse: 10.5908 - val_loss: 2.3215 - val_mae: 2.3215 - val_mse: 8.8112\n",
            "Epoch 208/300\n",
            "10/10 [==============================] - 0s 4ms/step - loss: 2.4440 - mae: 2.4440 - mse: 10.3698 - val_loss: 2.2507 - val_mae: 2.2507 - val_mse: 8.5602\n",
            "Epoch 209/300\n",
            "10/10 [==============================] - 0s 4ms/step - loss: 2.3887 - mae: 2.3887 - mse: 10.1562 - val_loss: 2.1867 - val_mae: 2.1867 - val_mse: 8.3462\n",
            "Epoch 210/300\n",
            "10/10 [==============================] - 0s 4ms/step - loss: 2.3435 - mae: 2.3435 - mse: 9.9850 - val_loss: 2.1268 - val_mae: 2.1268 - val_mse: 8.1587\n",
            "Epoch 211/300\n",
            "10/10 [==============================] - 0s 4ms/step - loss: 2.3013 - mae: 2.3013 - mse: 9.8380 - val_loss: 2.0699 - val_mae: 2.0699 - val_mse: 7.9925\n",
            "Epoch 212/300\n",
            "10/10 [==============================] - 0s 4ms/step - loss: 2.2613 - mae: 2.2613 - mse: 9.7030 - val_loss: 2.0173 - val_mae: 2.0173 - val_mse: 7.8494\n",
            "Epoch 213/300\n",
            "10/10 [==============================] - 0s 4ms/step - loss: 2.2271 - mae: 2.2271 - mse: 9.5887 - val_loss: 1.9700 - val_mae: 1.9700 - val_mse: 7.7235\n",
            "Epoch 214/300\n",
            "10/10 [==============================] - 0s 4ms/step - loss: 2.1990 - mae: 2.1990 - mse: 9.4924 - val_loss: 1.9276 - val_mae: 1.9276 - val_mse: 7.6138\n",
            "Epoch 215/300\n",
            "10/10 [==============================] - 0s 4ms/step - loss: 2.1710 - mae: 2.1710 - mse: 9.4079 - val_loss: 1.8878 - val_mae: 1.8878 - val_mse: 7.5195\n",
            "Epoch 216/300\n",
            "10/10 [==============================] - 0s 4ms/step - loss: 2.1442 - mae: 2.1442 - mse: 9.3301 - val_loss: 1.8483 - val_mae: 1.8483 - val_mse: 7.4348\n",
            "Epoch 217/300\n",
            "10/10 [==============================] - 0s 4ms/step - loss: 2.1209 - mae: 2.1209 - mse: 9.2799 - val_loss: 1.8198 - val_mae: 1.8198 - val_mse: 7.3576\n",
            "Epoch 218/300\n",
            "10/10 [==============================] - 0s 4ms/step - loss: 2.0987 - mae: 2.0987 - mse: 9.2120 - val_loss: 1.7956 - val_mae: 1.7956 - val_mse: 7.2970\n",
            "Epoch 219/300\n",
            "10/10 [==============================] - 0s 4ms/step - loss: 2.0795 - mae: 2.0795 - mse: 9.1665 - val_loss: 1.7713 - val_mae: 1.7713 - val_mse: 7.2429\n",
            "Epoch 220/300\n",
            "10/10 [==============================] - 0s 3ms/step - loss: 2.0594 - mae: 2.0594 - mse: 9.1298 - val_loss: 1.7490 - val_mae: 1.7490 - val_mse: 7.1985\n",
            "Epoch 221/300\n",
            "10/10 [==============================] - 0s 4ms/step - loss: 2.0431 - mae: 2.0431 - mse: 9.0973 - val_loss: 1.7306 - val_mae: 1.7306 - val_mse: 7.1595\n",
            "Epoch 222/300\n",
            "10/10 [==============================] - 0s 4ms/step - loss: 2.0276 - mae: 2.0276 - mse: 9.0763 - val_loss: 1.7133 - val_mae: 1.7133 - val_mse: 7.1276\n",
            "Epoch 223/300\n",
            "10/10 [==============================] - 0s 4ms/step - loss: 2.0132 - mae: 2.0132 - mse: 9.0539 - val_loss: 1.6996 - val_mae: 1.6996 - val_mse: 7.1030\n",
            "Epoch 224/300\n",
            "10/10 [==============================] - 0s 4ms/step - loss: 2.0004 - mae: 2.0004 - mse: 9.0362 - val_loss: 1.6873 - val_mae: 1.6873 - val_mse: 7.0842\n",
            "Epoch 225/300\n",
            "10/10 [==============================] - 0s 4ms/step - loss: 1.9901 - mae: 1.9901 - mse: 9.0331 - val_loss: 1.6784 - val_mae: 1.6784 - val_mse: 7.0712\n",
            "Epoch 226/300\n",
            "10/10 [==============================] - 0s 4ms/step - loss: 1.9814 - mae: 1.9814 - mse: 9.0213 - val_loss: 1.6700 - val_mae: 1.6700 - val_mse: 7.0621\n",
            "Epoch 227/300\n",
            "10/10 [==============================] - 0s 4ms/step - loss: 1.9735 - mae: 1.9735 - mse: 9.0206 - val_loss: 1.6615 - val_mae: 1.6615 - val_mse: 7.0557\n",
            "Epoch 228/300\n",
            "10/10 [==============================] - 0s 4ms/step - loss: 1.9651 - mae: 1.9651 - mse: 9.0173 - val_loss: 1.6534 - val_mae: 1.6534 - val_mse: 7.0523\n",
            "Epoch 229/300\n",
            "10/10 [==============================] - 0s 4ms/step - loss: 1.9582 - mae: 1.9582 - mse: 9.0202 - val_loss: 1.6497 - val_mae: 1.6497 - val_mse: 7.0515\n",
            "Epoch 230/300\n",
            "10/10 [==============================] - 0s 4ms/step - loss: 1.9551 - mae: 1.9551 - mse: 9.0251 - val_loss: 1.6471 - val_mae: 1.6471 - val_mse: 7.0523\n",
            "Epoch 231/300\n",
            "10/10 [==============================] - 0s 4ms/step - loss: 1.9516 - mae: 1.9516 - mse: 9.0247 - val_loss: 1.6451 - val_mae: 1.6451 - val_mse: 7.0538\n",
            "Epoch 232/300\n",
            "10/10 [==============================] - 0s 4ms/step - loss: 1.9487 - mae: 1.9487 - mse: 9.0284 - val_loss: 1.6432 - val_mae: 1.6432 - val_mse: 7.0561\n",
            "Epoch 233/300\n",
            "10/10 [==============================] - 0s 4ms/step - loss: 1.9460 - mae: 1.9460 - mse: 9.0326 - val_loss: 1.6413 - val_mae: 1.6413 - val_mse: 7.0592\n",
            "Epoch 234/300\n",
            "10/10 [==============================] - 0s 7ms/step - loss: 1.9438 - mae: 1.9438 - mse: 9.0404 - val_loss: 1.6388 - val_mae: 1.6388 - val_mse: 7.0645\n",
            "Epoch 235/300\n",
            "10/10 [==============================] - 0s 4ms/step - loss: 1.9405 - mae: 1.9405 - mse: 9.0461 - val_loss: 1.6376 - val_mae: 1.6376 - val_mse: 7.0696\n",
            "Epoch 236/300\n",
            "10/10 [==============================] - 0s 4ms/step - loss: 1.9386 - mae: 1.9386 - mse: 9.0517 - val_loss: 1.6383 - val_mae: 1.6383 - val_mse: 7.0744\n",
            "Epoch 237/300\n",
            "10/10 [==============================] - 0s 4ms/step - loss: 1.9372 - mae: 1.9372 - mse: 9.0571 - val_loss: 1.6389 - val_mae: 1.6389 - val_mse: 7.0790\n",
            "Epoch 238/300\n",
            "10/10 [==============================] - 0s 4ms/step - loss: 1.9361 - mae: 1.9361 - mse: 9.0638 - val_loss: 1.6395 - val_mae: 1.6395 - val_mse: 7.0846\n",
            "Epoch 239/300\n",
            "10/10 [==============================] - 0s 4ms/step - loss: 1.9351 - mae: 1.9351 - mse: 9.0712 - val_loss: 1.6408 - val_mae: 1.6408 - val_mse: 7.0903\n",
            "Epoch 240/300\n",
            "10/10 [==============================] - 0s 4ms/step - loss: 1.9346 - mae: 1.9346 - mse: 9.0766 - val_loss: 1.6418 - val_mae: 1.6418 - val_mse: 7.0939\n",
            "Epoch 241/300\n",
            "10/10 [==============================] - 0s 4ms/step - loss: 1.9344 - mae: 1.9344 - mse: 9.0810 - val_loss: 1.6425 - val_mae: 1.6425 - val_mse: 7.0964\n",
            "Epoch 242/300\n",
            "10/10 [==============================] - 0s 4ms/step - loss: 1.9341 - mae: 1.9341 - mse: 9.0828 - val_loss: 1.6431 - val_mae: 1.6431 - val_mse: 7.0983\n",
            "Epoch 243/300\n",
            "10/10 [==============================] - 0s 5ms/step - loss: 1.9339 - mae: 1.9339 - mse: 9.0842 - val_loss: 1.6433 - val_mae: 1.6433 - val_mse: 7.0989\n",
            "Epoch 244/300\n",
            "10/10 [==============================] - 0s 4ms/step - loss: 1.9339 - mae: 1.9339 - mse: 9.0872 - val_loss: 1.6442 - val_mae: 1.6442 - val_mse: 7.1027\n",
            "Epoch 245/300\n",
            "10/10 [==============================] - 0s 4ms/step - loss: 1.9336 - mae: 1.9336 - mse: 9.0906 - val_loss: 1.6449 - val_mae: 1.6449 - val_mse: 7.1052\n",
            "Epoch 246/300\n",
            "10/10 [==============================] - 0s 4ms/step - loss: 1.9333 - mae: 1.9333 - mse: 9.0932 - val_loss: 1.6454 - val_mae: 1.6454 - val_mse: 7.1069\n",
            "Epoch 247/300\n",
            "10/10 [==============================] - 0s 4ms/step - loss: 1.9332 - mae: 1.9332 - mse: 9.0950 - val_loss: 1.6457 - val_mae: 1.6457 - val_mse: 7.1083\n",
            "Epoch 248/300\n",
            "10/10 [==============================] - 0s 4ms/step - loss: 1.9330 - mae: 1.9330 - mse: 9.0973 - val_loss: 1.6464 - val_mae: 1.6464 - val_mse: 7.1110\n",
            "Epoch 249/300\n",
            "10/10 [==============================] - 0s 4ms/step - loss: 1.9330 - mae: 1.9330 - mse: 9.1023 - val_loss: 1.6473 - val_mae: 1.6473 - val_mse: 7.1150\n",
            "Epoch 250/300\n",
            "10/10 [==============================] - 0s 4ms/step - loss: 1.9326 - mae: 1.9326 - mse: 9.1028 - val_loss: 1.6475 - val_mae: 1.6475 - val_mse: 7.1156\n",
            "Epoch 251/300\n",
            "10/10 [==============================] - 0s 3ms/step - loss: 1.9325 - mae: 1.9325 - mse: 9.1052 - val_loss: 1.6483 - val_mae: 1.6483 - val_mse: 7.1183\n",
            "Epoch 252/300\n",
            "10/10 [==============================] - 0s 4ms/step - loss: 1.9324 - mae: 1.9324 - mse: 9.1085 - val_loss: 1.6490 - val_mae: 1.6490 - val_mse: 7.1206\n",
            "Epoch 253/300\n",
            "10/10 [==============================] - 0s 4ms/step - loss: 1.9322 - mae: 1.9322 - mse: 9.1090 - val_loss: 1.6490 - val_mae: 1.6490 - val_mse: 7.1201\n",
            "Epoch 254/300\n",
            "10/10 [==============================] - 0s 4ms/step - loss: 1.9321 - mae: 1.9321 - mse: 9.1098 - val_loss: 1.6497 - val_mae: 1.6497 - val_mse: 7.1225\n",
            "Epoch 255/300\n",
            "10/10 [==============================] - 0s 4ms/step - loss: 1.9320 - mae: 1.9320 - mse: 9.1110 - val_loss: 1.6499 - val_mae: 1.6499 - val_mse: 7.1227\n",
            "Epoch 256/300\n",
            "10/10 [==============================] - 0s 4ms/step - loss: 1.9319 - mae: 1.9319 - mse: 9.1132 - val_loss: 1.6506 - val_mae: 1.6506 - val_mse: 7.1254\n",
            "Epoch 257/300\n",
            "10/10 [==============================] - 0s 5ms/step - loss: 1.9317 - mae: 1.9317 - mse: 9.1149 - val_loss: 1.6511 - val_mae: 1.6511 - val_mse: 7.1269\n",
            "Epoch 258/300\n",
            "10/10 [==============================] - 0s 4ms/step - loss: 1.9317 - mae: 1.9317 - mse: 9.1178 - val_loss: 1.6518 - val_mae: 1.6518 - val_mse: 7.1295\n",
            "Epoch 259/300\n",
            "10/10 [==============================] - 0s 4ms/step - loss: 1.9316 - mae: 1.9316 - mse: 9.1206 - val_loss: 1.6524 - val_mae: 1.6524 - val_mse: 7.1316\n",
            "Epoch 260/300\n",
            "10/10 [==============================] - 0s 4ms/step - loss: 1.9316 - mae: 1.9316 - mse: 9.1249 - val_loss: 1.6534 - val_mae: 1.6534 - val_mse: 7.1354\n",
            "Epoch 261/300\n",
            "10/10 [==============================] - 0s 4ms/step - loss: 1.9313 - mae: 1.9313 - mse: 9.1250 - val_loss: 1.6534 - val_mae: 1.6534 - val_mse: 7.1350\n",
            "Epoch 262/300\n",
            "10/10 [==============================] - 0s 4ms/step - loss: 1.9312 - mae: 1.9312 - mse: 9.1256 - val_loss: 1.6538 - val_mae: 1.6538 - val_mse: 7.1364\n",
            "Epoch 263/300\n",
            "10/10 [==============================] - 0s 4ms/step - loss: 1.9313 - mae: 1.9313 - mse: 9.1293 - val_loss: 1.6550 - val_mae: 1.6550 - val_mse: 7.1413\n",
            "Epoch 264/300\n",
            "10/10 [==============================] - 0s 4ms/step - loss: 1.9310 - mae: 1.9310 - mse: 9.1340 - val_loss: 1.6556 - val_mae: 1.6556 - val_mse: 7.1439\n",
            "Epoch 265/300\n",
            "10/10 [==============================] - 0s 4ms/step - loss: 1.9309 - mae: 1.9309 - mse: 9.1338 - val_loss: 1.6556 - val_mae: 1.6556 - val_mse: 7.1435\n",
            "Epoch 266/300\n",
            "10/10 [==============================] - 0s 4ms/step - loss: 1.9307 - mae: 1.9307 - mse: 9.1340 - val_loss: 1.6558 - val_mae: 1.6558 - val_mse: 7.1440\n",
            "Epoch 267/300\n",
            "10/10 [==============================] - 0s 5ms/step - loss: 1.9307 - mae: 1.9307 - mse: 9.1365 - val_loss: 1.6567 - val_mae: 1.6567 - val_mse: 7.1475\n",
            "Epoch 268/300\n",
            "10/10 [==============================] - 0s 4ms/step - loss: 1.9305 - mae: 1.9305 - mse: 9.1391 - val_loss: 1.6571 - val_mae: 1.6571 - val_mse: 7.1492\n",
            "Epoch 269/300\n",
            "10/10 [==============================] - 0s 4ms/step - loss: 1.9304 - mae: 1.9304 - mse: 9.1400 - val_loss: 1.6574 - val_mae: 1.6574 - val_mse: 7.1500\n",
            "Epoch 270/300\n",
            "10/10 [==============================] - 0s 4ms/step - loss: 1.9304 - mae: 1.9304 - mse: 9.1434 - val_loss: 1.6583 - val_mae: 1.6583 - val_mse: 7.1537\n",
            "Epoch 271/300\n",
            "10/10 [==============================] - 0s 4ms/step - loss: 1.9301 - mae: 1.9301 - mse: 9.1451 - val_loss: 1.6585 - val_mae: 1.6585 - val_mse: 7.1545\n",
            "Epoch 272/300\n",
            "10/10 [==============================] - 0s 4ms/step - loss: 1.9302 - mae: 1.9302 - mse: 9.1495 - val_loss: 1.6594 - val_mae: 1.6594 - val_mse: 7.1587\n",
            "Epoch 273/300\n",
            "10/10 [==============================] - 0s 5ms/step - loss: 1.9299 - mae: 1.9299 - mse: 9.1497 - val_loss: 1.6595 - val_mae: 1.6595 - val_mse: 7.1589\n",
            "Epoch 274/300\n",
            "10/10 [==============================] - 0s 5ms/step - loss: 1.9299 - mae: 1.9299 - mse: 9.1532 - val_loss: 1.6606 - val_mae: 1.6606 - val_mse: 7.1637\n",
            "Epoch 275/300\n",
            "10/10 [==============================] - 0s 4ms/step - loss: 1.9296 - mae: 1.9296 - mse: 9.1558 - val_loss: 1.6608 - val_mae: 1.6608 - val_mse: 7.1645\n",
            "Epoch 276/300\n",
            "10/10 [==============================] - 0s 5ms/step - loss: 1.9296 - mae: 1.9296 - mse: 9.1580 - val_loss: 1.6616 - val_mae: 1.6616 - val_mse: 7.1678\n",
            "Epoch 277/300\n",
            "10/10 [==============================] - 0s 6ms/step - loss: 1.9294 - mae: 1.9294 - mse: 9.1605 - val_loss: 1.6620 - val_mae: 1.6620 - val_mse: 7.1697\n",
            "Epoch 278/300\n",
            "10/10 [==============================] - 0s 4ms/step - loss: 1.9293 - mae: 1.9293 - mse: 9.1637 - val_loss: 1.6628 - val_mae: 1.6628 - val_mse: 7.1735\n",
            "Epoch 279/300\n",
            "10/10 [==============================] - 0s 5ms/step - loss: 1.9292 - mae: 1.9292 - mse: 9.1659 - val_loss: 1.6629 - val_mae: 1.6629 - val_mse: 7.1734\n",
            "Epoch 280/300\n",
            "10/10 [==============================] - 0s 5ms/step - loss: 1.9291 - mae: 1.9291 - mse: 9.1646 - val_loss: 1.6624 - val_mae: 1.6624 - val_mse: 7.1705\n",
            "Epoch 281/300\n",
            "10/10 [==============================] - 0s 4ms/step - loss: 1.9295 - mae: 1.9295 - mse: 9.1600 - val_loss: 1.6614 - val_mae: 1.6614 - val_mse: 7.1653\n",
            "Epoch 282/300\n",
            "10/10 [==============================] - 0s 4ms/step - loss: 1.9291 - mae: 1.9291 - mse: 9.1581 - val_loss: 1.6619 - val_mae: 1.6619 - val_mse: 7.1675\n",
            "Epoch 283/300\n",
            "10/10 [==============================] - 0s 4ms/step - loss: 1.9292 - mae: 1.9292 - mse: 9.1633 - val_loss: 1.6632 - val_mae: 1.6632 - val_mse: 7.1732\n",
            "Epoch 284/300\n",
            "10/10 [==============================] - 0s 4ms/step - loss: 1.9292 - mae: 1.9292 - mse: 9.1627 - val_loss: 1.6621 - val_mae: 1.6621 - val_mse: 7.1679\n",
            "Epoch 285/300\n",
            "10/10 [==============================] - 0s 5ms/step - loss: 1.9290 - mae: 1.9290 - mse: 9.1624 - val_loss: 1.6627 - val_mae: 1.6627 - val_mse: 7.1702\n",
            "Epoch 286/300\n",
            "10/10 [==============================] - 0s 4ms/step - loss: 1.9289 - mae: 1.9289 - mse: 9.1604 - val_loss: 1.6622 - val_mae: 1.6622 - val_mse: 7.1675\n",
            "Epoch 287/300\n",
            "10/10 [==============================] - 0s 4ms/step - loss: 1.9288 - mae: 1.9288 - mse: 9.1610 - val_loss: 1.6623 - val_mae: 1.6623 - val_mse: 7.1675\n",
            "Epoch 288/300\n",
            "10/10 [==============================] - 0s 5ms/step - loss: 1.9288 - mae: 1.9288 - mse: 9.1593 - val_loss: 1.6623 - val_mae: 1.6623 - val_mse: 7.1673\n",
            "Epoch 289/300\n",
            "10/10 [==============================] - 0s 4ms/step - loss: 1.9288 - mae: 1.9288 - mse: 9.1600 - val_loss: 1.6622 - val_mae: 1.6622 - val_mse: 7.1660\n",
            "Epoch 290/300\n",
            "10/10 [==============================] - 0s 4ms/step - loss: 1.9286 - mae: 1.9286 - mse: 9.1593 - val_loss: 1.6624 - val_mae: 1.6624 - val_mse: 7.1666\n",
            "Epoch 291/300\n",
            "10/10 [==============================] - 0s 4ms/step - loss: 1.9286 - mae: 1.9286 - mse: 9.1590 - val_loss: 1.6624 - val_mae: 1.6624 - val_mse: 7.1664\n",
            "Epoch 292/300\n",
            "10/10 [==============================] - 0s 4ms/step - loss: 1.9287 - mae: 1.9287 - mse: 9.1596 - val_loss: 1.6622 - val_mae: 1.6622 - val_mse: 7.1652\n",
            "Epoch 293/300\n",
            "10/10 [==============================] - 0s 5ms/step - loss: 1.9285 - mae: 1.9285 - mse: 9.1577 - val_loss: 1.6622 - val_mae: 1.6622 - val_mse: 7.1646\n",
            "Epoch 294/300\n",
            "10/10 [==============================] - 0s 5ms/step - loss: 1.9285 - mae: 1.9285 - mse: 9.1561 - val_loss: 1.6618 - val_mae: 1.6618 - val_mse: 7.1621\n",
            "Epoch 295/300\n",
            "10/10 [==============================] - 0s 4ms/step - loss: 1.9286 - mae: 1.9286 - mse: 9.1578 - val_loss: 1.6624 - val_mae: 1.6624 - val_mse: 7.1648\n",
            "Epoch 296/300\n",
            "10/10 [==============================] - 0s 4ms/step - loss: 1.9283 - mae: 1.9283 - mse: 9.1565 - val_loss: 1.6618 - val_mae: 1.6618 - val_mse: 7.1613\n",
            "Epoch 297/300\n",
            "10/10 [==============================] - 0s 5ms/step - loss: 1.9284 - mae: 1.9284 - mse: 9.1530 - val_loss: 1.6614 - val_mae: 1.6614 - val_mse: 7.1589\n",
            "Epoch 298/300\n",
            "10/10 [==============================] - 0s 5ms/step - loss: 1.9283 - mae: 1.9283 - mse: 9.1534 - val_loss: 1.6620 - val_mae: 1.6620 - val_mse: 7.1616\n",
            "Epoch 299/300\n",
            "10/10 [==============================] - 0s 5ms/step - loss: 1.9283 - mae: 1.9283 - mse: 9.1539 - val_loss: 1.6617 - val_mae: 1.6617 - val_mse: 7.1600\n",
            "Epoch 300/300\n",
            "10/10 [==============================] - 0s 4ms/step - loss: 1.9284 - mae: 1.9284 - mse: 9.1562 - val_loss: 1.6623 - val_mae: 1.6623 - val_mse: 7.1620\n"
          ],
          "name": "stdout"
        }
      ]
    },
    {
      "cell_type": "markdown",
      "metadata": {
        "id": "sgzCq16CmYoE"
      },
      "source": [
        "some analysis of the above data:\n",
        "\n",
        "the val_loss has reduced from 4.4903 to 1.5950 after 300 training rounds.\n",
        "\n",
        "the alpha that we provided was 0.001, as it was a small value the change is not that drastic, because **alpha denotes the learning rate**."
      ]
    },
    {
      "cell_type": "code",
      "metadata": {
        "id": "EWdody7N-dfV",
        "colab": {
          "base_uri": "https://localhost:8080/"
        },
        "outputId": "47480338-4296-4169-e802-fc015abcd32b"
      },
      "source": [
        "model.summary()\n",
        "#gives us the details of the model"
      ],
      "execution_count": 21,
      "outputs": [
        {
          "output_type": "stream",
          "text": [
            "Model: \"sequential\"\n",
            "_________________________________________________________________\n",
            "Layer (type)                 Output Shape              Param #   \n",
            "=================================================================\n",
            "dense (Dense)                (None, 1)                 2         \n",
            "=================================================================\n",
            "Total params: 2\n",
            "Trainable params: 2\n",
            "Non-trainable params: 0\n",
            "_________________________________________________________________\n"
          ],
          "name": "stdout"
        }
      ]
    },
    {
      "cell_type": "code",
      "metadata": {
        "colab": {
          "base_uri": "https://localhost:8080/",
          "height": 1000
        },
        "id": "3dAwcCHqt-jP",
        "outputId": "c681efeb-805e-49d0-cdd4-5b80f72ec740"
      },
      "source": [
        "# tempString = 'mse'\n",
        "# define a function to plot the graph\n",
        "# import mathplotlib.pyplot as plt\n",
        "\n",
        "def curvePlots(tempString):\n",
        "  plt.plot(history.history[tempString])             # plot the \"history\" derived above, in it plot each row of the 300 rows, and in that row plot \"tempstring\" which will be the parameter\n",
        "  plt.plot(history.history[f'val_{tempString}'])    # suppose \"tempstring\" is 'loss', the plot 'val_loss' as well\n",
        "  plt.xlabel('NumEpochs')                           # x axis has 'numepoch'\n",
        "  plt.ylabel(tempString)                            # y axis will have the 'tempstring'\n",
        "  plt.legend([tempString, f'val_{tempString}'])     # used to denote which line is 'tempstring' and which is 'val + tempstring'\n",
        "  plt.show()                                        #used to show the graph\n",
        "\n",
        "\n",
        "curvePlots('mse')\n",
        "curvePlots('mae')\n",
        "curvePlots('loss')"
      ],
      "execution_count": 22,
      "outputs": [
        {
          "output_type": "display_data",
          "data": {
            "image/png": "[encoded data removed]",
            "text/plain": [
              "<Figure size 576x396 with 1 Axes>"
            ]
          },
          "metadata": {
            "tags": []
          }
        },
        {
          "output_type": "display_data",
          "data": {
            "image/png": "[encoded data removed]",
            "text/plain": [
              "<Figure size 576x396 with 1 Axes>"
            ]
          },
          "metadata": {
            "tags": []
          }
        },
        {
          "output_type": "display_data",
          "data": {
            "image/png": "[encoded data removed]",
            "text/plain": [
              "<Figure size 576x396 with 1 Axes>"
            ]
          },
          "metadata": {
            "tags": []
          }
        }
      ]
    },
    {
      "cell_type": "markdown",
      "metadata": {
        "id": "RMS9jDvM-6K8"
      },
      "source": [
        "The above graphs are for the training set of value, between the number of time the model was trained and various kinds of loss given as parameters. "
      ]
    },
    {
      "cell_type": "code",
      "metadata": {
        "colab": {
          "base_uri": "https://localhost:8080/"
        },
        "id": "24xuVGI1wJ5q",
        "outputId": "4553f615-37aa-4add-8d61-bb69ad7e6496"
      },
      "source": [
        "model.predict([9])\n",
        "\n",
        "# the actual value corresponding to the input = 9 is 9. Through this model the predicted value is coming out to be 9.4, not accurate but pretty close"
      ],
      "execution_count": 35,
      "outputs": [
        {
          "output_type": "execute_result",
          "data": {
            "text/plain": [
              "array([[9.498631]], dtype=float32)"
            ]
          },
          "metadata": {
            "tags": []
          },
          "execution_count": 35
        }
      ]
    },
    {
      "cell_type": "code",
      "metadata": {
        "colab": {
          "base_uri": "https://localhost:8080/"
        },
        "id": "DBhLLyD8zVj9",
        "outputId": "9de4e705-9195-48ae-a601-e7651726ec9b"
      },
      "source": [
        "# testPreds = model.predict(testFeatures).flatten() #array of all prediction values\n",
        "\n",
        "#for single values\n",
        "\n",
        "print(f'Prediction for input value 1: {model.predict([1])}')\n",
        "\n",
        "\n",
        "# for a list of values\n",
        "tempListforPreds = [1,2,3,4,5]\n",
        "print(f'''\n",
        "\n",
        "input List = {tempListforPreds}\n",
        "\n",
        "\n",
        "List of Predictions:\n",
        "{model.predict(tempListforPreds)}\n",
        "\n",
        "List of Predictions (flattened out):\n",
        "{model.predict(tempListforPreds).flatten()}\n",
        "''')"
      ],
      "execution_count": 24,
      "outputs": [
        {
          "output_type": "stream",
          "text": [
            "Prediction for input value 1: [[2.8220177]]\n",
            "\n",
            "\n",
            "input List = [1, 2, 3, 4, 5]\n",
            "\n",
            "\n",
            "List of Predictions:\n",
            "[[2.8220177]\n",
            " [3.6565943]\n",
            " [4.491171 ]\n",
            " [5.3257475]\n",
            " [6.1603236]]\n",
            "\n",
            "List of Predictions (flattened out):\n",
            "[2.8220177 3.6565943 4.491171  5.3257475 6.1603236]\n",
            "\n"
          ],
          "name": "stdout"
        }
      ]
    },
    {
      "cell_type": "code",
      "metadata": {
        "colab": {
          "base_uri": "https://localhost:8080/"
        },
        "id": "vzQBJrllzpku",
        "outputId": "14194d94-5c2f-45e4-d96c-854cd9c69d8a"
      },
      "source": [
        "print(testFeatures)"
      ],
      "execution_count": 25,
      "outputs": [
        {
          "output_type": "stream",
          "text": [
            "     G1\n",
            "9    14\n",
            "25    6\n",
            "28   11\n",
            "31   17\n",
            "32   17\n",
            "..   ..\n",
            "365  10\n",
            "367   7\n",
            "379  10\n",
            "381   7\n",
            "393  11\n",
            "\n",
            "[79 rows x 1 columns]\n"
          ],
          "name": "stdout"
        }
      ]
    },
    {
      "cell_type": "code",
      "metadata": {
        "colab": {
          "base_uri": "https://localhost:8080/"
        },
        "id": "3rLLc05pz0hV",
        "outputId": "fd33eff0-6852-4118-c1c0-de19d2e8381e"
      },
      "source": [
        "# at the end we need to find the predictions for the test data which is stored in testFeatures, the test labels are in testLabels.\n",
        "\n",
        "testPreds = model.predict(testFeatures).flatten() #array of all prediction values\n",
        "print(len(testPreds))\n",
        "print(testPreds)"
      ],
      "execution_count": 28,
      "outputs": [
        {
          "output_type": "stream",
          "text": [
            "79\n",
            "[13.671513  6.9949   11.167783 16.175243 16.175243 12.002359 13.671513\n",
            " 17.844395 17.844395  8.664053 13.671513 12.836936  8.664053  7.829477\n",
            "  9.498631 12.836936 11.167783 15.340666  7.829477 10.333206 14.506089\n",
            " 12.836936 13.671513 15.340666  7.829477  7.829477  8.664053 10.333206\n",
            " 12.002359 10.333206 12.002359 12.836936 10.333206  6.9949    9.498631\n",
            " 12.002359  7.829477  8.664053 13.671513  9.498631  9.498631  7.829477\n",
            " 12.002359  6.9949   12.836936  7.829477  7.829477 11.167783 12.836936\n",
            " 16.175243 12.002359 14.506089  9.498631 12.002359 14.506089 12.002359\n",
            " 14.506089 12.002359 14.506089 11.167783 12.002359  8.664053 15.340666\n",
            "  7.829477 15.340666 11.167783 15.340666 12.836936  8.664053  8.664053\n",
            " 12.002359 17.009819 12.836936 15.340666 10.333206  7.829477 10.333206\n",
            "  7.829477 11.167783]\n"
          ],
          "name": "stdout"
        }
      ]
    },
    {
      "cell_type": "code",
      "metadata": {
        "colab": {
          "base_uri": "https://localhost:8080/"
        },
        "id": "5GKVFqgN8BFX",
        "outputId": "c3143d9c-3dae-4784-cf1d-56c5f8a95c2c"
      },
      "source": [
        "#number of unique values predicted\n",
        "print(len(np.unique(testPreds)))"
      ],
      "execution_count": 39,
      "outputs": [
        {
          "output_type": "stream",
          "text": [
            "14\n"
          ],
          "name": "stdout"
        }
      ]
    },
    {
      "cell_type": "code",
      "metadata": {
        "colab": {
          "base_uri": "https://localhost:8080/"
        },
        "id": "alXB7dJx9HSm",
        "outputId": "b81c2cd6-71e8-47c1-a584-3d423c5a290e"
      },
      "source": [
        "print(len(testLabels.unique()))"
      ],
      "execution_count": 42,
      "outputs": [
        {
          "output_type": "stream",
          "text": [
            "16\n"
          ],
          "name": "stdout"
        }
      ]
    },
    {
      "cell_type": "code",
      "metadata": {
        "colab": {
          "base_uri": "https://localhost:8080/",
          "height": 361
        },
        "id": "mXpdCmkh0cAq",
        "outputId": "f17694f4-c6c3-4f3d-d66f-ac4c079f83b7"
      },
      "source": [
        "# prediciton plot --> how well is your model predicting across the actual labels\n",
        "# plot the graph b/w the predicted values (testPreds) for the i/p values and the actual o/p (testLabels) that should be produced.\n",
        "\n",
        "def predPlot(labels, predictions):\n",
        "  plt.scatter(labels, predictions)   #The scatter() function plots one dot for each observation. It needs two arrays of the same length for x and y axis.\n",
        "  plt.ylabel('Predictions')\n",
        "  plt.xlabel('True Value or Labels')\n",
        "  plt.axis('equal')                  #makes sure that the scaling is same on both the axis\n",
        "  plt.axis('square')                 #it creates a square plot where the ranges for both axes occupy are equal to the length in plot. The range of axes in this solution are selected automatically\n",
        "  plt.xlim([0, plt.xlim()[1]])       #is used to get or set the x-limits of the current axes\n",
        "  plt.ylim([0, plt.ylim()[1]])\n",
        "  plt.show()\n",
        "\n",
        "predPlot(testLabels, testPreds)"
      ],
      "execution_count": 29,
      "outputs": [
        {
          "output_type": "display_data",
          "data": {
            "image/png": "[encoded data removed]",
            "text/plain": [
              "<Figure size 576x396 with 1 Axes>"
            ]
          },
          "metadata": {
            "tags": []
          }
        }
      ]
    },
    {
      "cell_type": "code",
      "metadata": {
        "colab": {
          "base_uri": "https://localhost:8080/",
          "height": 361
        },
        "id": "uckVxIKj0zbh",
        "outputId": "fb0c59b4-757a-4cfb-e19d-1d9ae52fcea7"
      },
      "source": [
        "\n",
        "#error plot --> gaussian distribution \n",
        "\n",
        "def errorPlot(preds, labels, counts):\n",
        "  errors = preds - labels\n",
        "  plt.hist(errors, counts)\n",
        "  plt.xlabel('Error')\n",
        "  plt.ylabel('Counts')\n",
        "  plt.show()\n",
        "\n",
        "errorPlot(testPreds, testLabels, numEpochs)"
      ],
      "execution_count": 30,
      "outputs": [
        {
          "output_type": "display_data",
          "data": {
            "image/png": "[encoded data removed]",
            "text/plain": [
              "<Figure size 576x396 with 1 Axes>"
            ]
          },
          "metadata": {
            "tags": []
          }
        }
      ]
    },
    {
      "cell_type": "markdown",
      "metadata": {
        "id": "AXdP-j_N1Npb"
      },
      "source": [
        "**Note**:\n",
        "\n",
        "Validation loss val_loss is a metric that tells you how much deviation from the actual label can you expect in the predicted label\n",
        "\n",
        "To optimize your predicitons -->\n",
        "\n",
        "Hyperparameter tuning --> numEpochs, optimizer, learning_rate, lossFunctions"
      ]
    }
  ]
}