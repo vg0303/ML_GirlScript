{
  "nbformat": 4,
  "nbformat_minor": 0,
  "metadata": {
    "colab": {
      "name": "EDA_1.ipynb",
      "provenance": [],
      "authorship_tag": "ABX9TyPR+EFSzOe8kX53RdM9dWUq",
      "include_colab_link": true
    },
    "kernelspec": {
      "name": "python3",
      "display_name": "Python 3"
    },
    "language_info": {
      "name": "python"
    }
  },
  "cells": [
    {
      "cell_type": "markdown",
      "metadata": {
        "id": "view-in-github",
        "colab_type": "text"
      },
      "source": [
        "<a href=\"https://colab.research.google.com/github/vg0303/ML_GirlScript/blob/main/ExploratoryDataAnalysis_1.ipynb\" target=\"_parent\"><img src=\"https://colab.research.google.com/assets/colab-badge.svg\" alt=\"Open In Colab\"/></a>"
      ]
    },
    {
      "cell_type": "code",
      "metadata": {
        "colab": {
          "base_uri": "https://localhost:8080/"
        },
        "id": "kZURtgj5LZwl",
        "outputId": "9301e355-9da0-4506-d9bd-f12b536ae080"
      },
      "source": [
        "from google.colab import drive\n",
        "drive.mount('/content/drive')"
      ],
      "execution_count": 1,
      "outputs": [
        {
          "output_type": "stream",
          "text": [
            "Mounted at /content/drive\n"
          ],
          "name": "stdout"
        }
      ]
    },
    {
      "cell_type": "code",
      "metadata": {
        "colab": {
          "base_uri": "https://localhost:8080/"
        },
        "id": "im0ny0rYa47q",
        "outputId": "6bb0d06a-9537-4fa1-cf8c-b00061ca1a6e"
      },
      "source": [
        "cd '/content/drive/MyDrive/ML_Colab/EDA/student'"
      ],
      "execution_count": 11,
      "outputs": [
        {
          "output_type": "stream",
          "text": [
            "/content/drive/MyDrive/ML_Colab/EDA/student\n"
          ],
          "name": "stdout"
        }
      ]
    },
    {
      "cell_type": "code",
      "metadata": {
        "colab": {
          "base_uri": "https://localhost:8080/"
        },
        "id": "IC_BEGHva_pg",
        "outputId": "8475e04c-3451-47d2-c42e-20129bb29bf7"
      },
      "source": [
        "ls"
      ],
      "execution_count": 12,
      "outputs": [
        {
          "output_type": "stream",
          "text": [
            "student-mat.csv  student-merge.R  student-por.csv  student.txt\n"
          ],
          "name": "stdout"
        }
      ]
    },
    {
      "cell_type": "markdown",
      "metadata": {
        "id": "PqXVDSxqbH_L"
      },
      "source": [
        "Importing the necessary libraries"
      ]
    },
    {
      "cell_type": "code",
      "metadata": {
        "id": "Gul2Hn53bN0n"
      },
      "source": [
        "import pandas as pd                 #working with csv or excel files\n",
        "import numpy as np                  #working with numbers/ arrays/ tensors\n",
        "import tensorflow as tf             #framework\n",
        "from tensorflow import keras        #API / library \n",
        "import os                           #using os commands between the python language"
      ],
      "execution_count": 14,
      "outputs": []
    }
  ]
}